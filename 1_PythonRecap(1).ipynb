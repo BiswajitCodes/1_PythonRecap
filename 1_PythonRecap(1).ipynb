{
 "cells": [
  {
   "cell_type": "code",
   "execution_count": 1,
   "id": "4a28757a-cd05-47a7-bcc1-0d48e08b5ef6",
   "metadata": {},
   "outputs": [
    {
     "name": "stdout",
     "output_type": "stream",
     "text": [
      "\n",
      "Here is a list of the Python keywords.  Enter any keyword to get more help.\n",
      "\n",
      "False               class               from                or\n",
      "None                continue            global              pass\n",
      "True                def                 if                  raise\n",
      "and                 del                 import              return\n",
      "as                  elif                in                  try\n",
      "assert              else                is                  while\n",
      "async               except              lambda              with\n",
      "await               finally             nonlocal            yield\n",
      "break               for                 not                 \n",
      "\n"
     ]
    }
   ],
   "source": [
    "help('keywords')"
   ]
  },
  {
   "cell_type": "code",
   "execution_count": 2,
   "id": "c8fbc716-8c8d-4fa3-9930-83a44c63007b",
   "metadata": {},
   "outputs": [
    {
     "data": {
      "text/plain": [
       "True"
      ]
     },
     "execution_count": 2,
     "metadata": {},
     "output_type": "execute_result"
    }
   ],
   "source": [
    "import keyword\n",
    "keyword.iskeyword('with')"
   ]
  },
  {
   "cell_type": "code",
   "execution_count": 3,
   "id": "7f873dfa-60df-4230-9bb4-6b1d66c0ac80",
   "metadata": {},
   "outputs": [
    {
     "data": {
      "text/plain": [
       "True"
      ]
     },
     "execution_count": 3,
     "metadata": {},
     "output_type": "execute_result"
    }
   ],
   "source": [
    "import keyword\n",
    "keyword.iskeyword('global')"
   ]
  },
  {
   "cell_type": "code",
   "execution_count": 4,
   "id": "450c11a5-6f7a-47c0-9ffc-0ccc193c63ea",
   "metadata": {},
   "outputs": [
    {
     "data": {
      "text/plain": [
       "True"
      ]
     },
     "execution_count": 4,
     "metadata": {},
     "output_type": "execute_result"
    }
   ],
   "source": [
    "'trail'.isidentifier()"
   ]
  },
  {
   "cell_type": "code",
   "execution_count": 5,
   "id": "0ccd7496-5614-480b-b857-27e5630bceef",
   "metadata": {},
   "outputs": [
    {
     "data": {
      "text/plain": [
       "False"
      ]
     },
     "execution_count": 5,
     "metadata": {},
     "output_type": "execute_result"
    }
   ],
   "source": [
    "'trail.d@'.isidentifier()"
   ]
  },
  {
   "cell_type": "code",
   "execution_count": 6,
   "id": "d2090fae-f5de-4549-a50a-1c4f20049c42",
   "metadata": {},
   "outputs": [],
   "source": [
    "t=327"
   ]
  },
  {
   "cell_type": "code",
   "execution_count": 7,
   "id": "83b6bac4-303e-4765-ba72-2314d9560571",
   "metadata": {},
   "outputs": [],
   "source": [
    "v=3.4"
   ]
  },
  {
   "cell_type": "code",
   "execution_count": 8,
   "id": "4d3c0ffe-34e2-4cd0-942a-4cb11cc4ae84",
   "metadata": {},
   "outputs": [
    {
     "data": {
      "text/plain": [
       "2989096637744"
      ]
     },
     "execution_count": 8,
     "metadata": {},
     "output_type": "execute_result"
    }
   ],
   "source": [
    "id(v)"
   ]
  },
  {
   "cell_type": "code",
   "execution_count": 9,
   "id": "3dd142b8-90e2-4679-98e2-17d2181b023d",
   "metadata": {},
   "outputs": [
    {
     "name": "stdout",
     "output_type": "stream",
     "text": [
      "hello world\n",
      "None\n"
     ]
    }
   ],
   "source": [
    "print(print('hello world'))"
   ]
  },
  {
   "cell_type": "code",
   "execution_count": 10,
   "id": "a0d58936-3506-4ed2-a9d2-e7cc81ae6392",
   "metadata": {},
   "outputs": [],
   "source": [
    "# input and Output Statement"
   ]
  },
  {
   "cell_type": "code",
   "execution_count": 12,
   "id": "56782176-c0bc-4153-934d-aba37908e002",
   "metadata": {},
   "outputs": [
    {
     "name": "stdin",
     "output_type": "stream",
     "text": [
      "enter a number 5\n"
     ]
    }
   ],
   "source": [
    "num=input(\"enter a number\")"
   ]
  },
  {
   "cell_type": "code",
   "execution_count": 13,
   "id": "bb68a308-483c-4522-a104-6be74a886935",
   "metadata": {},
   "outputs": [
    {
     "name": "stdout",
     "output_type": "stream",
     "text": [
      "3.4 is type <class 'float'>\n"
     ]
    }
   ],
   "source": [
    "print(v,'is type',type(v))"
   ]
  },
  {
   "cell_type": "code",
   "execution_count": 14,
   "id": "2efd57c6-b1c2-4ae4-8769-993921e25160",
   "metadata": {},
   "outputs": [],
   "source": [
    "str='hello Biswa'"
   ]
  },
  {
   "cell_type": "code",
   "execution_count": 15,
   "id": "bfe623e1-3463-4f95-a3ee-5eb47232296f",
   "metadata": {},
   "outputs": [],
   "source": [
    "# string opertaion"
   ]
  },
  {
   "cell_type": "code",
   "execution_count": 16,
   "id": "8970316d-27f9-4ce2-84ee-f48dae23a59b",
   "metadata": {},
   "outputs": [
    {
     "data": {
      "text/plain": [
       "'l'"
      ]
     },
     "execution_count": 16,
     "metadata": {},
     "output_type": "execute_result"
    }
   ],
   "source": [
    "str[3]"
   ]
  },
  {
   "cell_type": "code",
   "execution_count": 17,
   "id": "a93ca301-d2e3-4088-8016-078180dc82a0",
   "metadata": {},
   "outputs": [
    {
     "data": {
      "text/plain": [
       "'hello'"
      ]
     },
     "execution_count": 17,
     "metadata": {},
     "output_type": "execute_result"
    }
   ],
   "source": [
    "str[0:5]"
   ]
  },
  {
   "cell_type": "code",
   "execution_count": 18,
   "id": "6fb04e58-53f9-448e-accb-dd6af3606205",
   "metadata": {},
   "outputs": [
    {
     "data": {
      "text/plain": [
       "'hloB'"
      ]
     },
     "execution_count": 18,
     "metadata": {},
     "output_type": "execute_result"
    }
   ],
   "source": [
    "str[0:7:2]"
   ]
  },
  {
   "cell_type": "code",
   "execution_count": 19,
   "id": "0a7a07f5-6216-4153-acfa-658061683003",
   "metadata": {},
   "outputs": [
    {
     "data": {
      "text/plain": [
       "'Biswa'"
      ]
     },
     "execution_count": 19,
     "metadata": {},
     "output_type": "execute_result"
    }
   ],
   "source": [
    "str[6:11]"
   ]
  },
  {
   "cell_type": "code",
   "execution_count": 20,
   "id": "788d407c-9e1c-438c-a71d-515a420ebec1",
   "metadata": {},
   "outputs": [
    {
     "data": {
      "text/plain": [
       "'i'"
      ]
     },
     "execution_count": 20,
     "metadata": {},
     "output_type": "execute_result"
    }
   ],
   "source": [
    "str[-4]"
   ]
  },
  {
   "cell_type": "code",
   "execution_count": 21,
   "id": "d85979dc-5b21-4db7-b5ba-a5d7b4c194d4",
   "metadata": {},
   "outputs": [
    {
     "data": {
      "text/plain": [
       "'awsiB olleh'"
      ]
     },
     "execution_count": 21,
     "metadata": {},
     "output_type": "execute_result"
    }
   ],
   "source": [
    "str[::-1]"
   ]
  },
  {
   "cell_type": "code",
   "execution_count": 22,
   "id": "d11bce57-71b9-47c3-abd2-93b359ce2eb0",
   "metadata": {},
   "outputs": [
    {
     "data": {
      "text/plain": [
       "'hello Biswahello Biswahello Biswa'"
      ]
     },
     "execution_count": 22,
     "metadata": {},
     "output_type": "execute_result"
    }
   ],
   "source": [
    "str*3"
   ]
  },
  {
   "cell_type": "code",
   "execution_count": 23,
   "id": "e7d9b378-006f-45bc-a803-53fb4d9f79da",
   "metadata": {},
   "outputs": [
    {
     "data": {
      "text/plain": [
       "'Hello biswa'"
      ]
     },
     "execution_count": 23,
     "metadata": {},
     "output_type": "execute_result"
    }
   ],
   "source": [
    "str.capitalize()"
   ]
  },
  {
   "cell_type": "code",
   "execution_count": 24,
   "id": "b84e9763-c4ec-4693-b24b-4dd1c77d45d3",
   "metadata": {},
   "outputs": [
    {
     "data": {
      "text/plain": [
       "'HELLO BISWA'"
      ]
     },
     "execution_count": 24,
     "metadata": {},
     "output_type": "execute_result"
    }
   ],
   "source": [
    "str.upper()"
   ]
  },
  {
   "cell_type": "code",
   "execution_count": 25,
   "id": "6687ba9c-6b28-4d9f-b5c4-0865ca63740c",
   "metadata": {},
   "outputs": [
    {
     "data": {
      "text/plain": [
       "'HELLO bISWA'"
      ]
     },
     "execution_count": 25,
     "metadata": {},
     "output_type": "execute_result"
    }
   ],
   "source": [
    "str.swapcase()"
   ]
  },
  {
   "cell_type": "code",
   "execution_count": 26,
   "id": "a47f201a-2b1c-4f9d-a24c-eb7debbc5dd7",
   "metadata": {},
   "outputs": [
    {
     "data": {
      "text/plain": [
       "['hello', 'Biswa']"
      ]
     },
     "execution_count": 26,
     "metadata": {},
     "output_type": "execute_result"
    }
   ],
   "source": [
    "str.split()"
   ]
  },
  {
   "cell_type": "code",
   "execution_count": 26,
   "id": "e6d88109-9b88-4905-a549-ff10a619470e",
   "metadata": {},
   "outputs": [],
   "source": [
    "h='I am Biswajit'"
   ]
  },
  {
   "cell_type": "code",
   "execution_count": 27,
   "id": "d8c0708a-da1e-4812-8ede-659d932ba3a0",
   "metadata": {},
   "outputs": [
    {
     "data": {
      "text/plain": [
       "['I', 'am', 'Biswajit']"
      ]
     },
     "execution_count": 27,
     "metadata": {},
     "output_type": "execute_result"
    }
   ],
   "source": [
    "h.split()"
   ]
  },
  {
   "cell_type": "code",
   "execution_count": 28,
   "id": "894a838e-d221-4589-b3fe-407cf782b372",
   "metadata": {},
   "outputs": [
    {
     "data": {
      "text/plain": [
       "2"
      ]
     },
     "execution_count": 28,
     "metadata": {},
     "output_type": "execute_result"
    }
   ],
   "source": [
    "h.count('a')"
   ]
  },
  {
   "cell_type": "code",
   "execution_count": 29,
   "id": "4c0a5943-84bf-4a7c-a4c8-e6f359ea8d9f",
   "metadata": {},
   "outputs": [],
   "source": [
    "s='   Nothing is impossible  '"
   ]
  },
  {
   "cell_type": "code",
   "execution_count": 30,
   "id": "878228a5-8cf0-4dc4-a82d-ea8038684ffd",
   "metadata": {},
   "outputs": [
    {
     "data": {
      "text/plain": [
       "'   Nothing is impossible'"
      ]
     },
     "execution_count": 30,
     "metadata": {},
     "output_type": "execute_result"
    }
   ],
   "source": [
    "s.rstrip()"
   ]
  },
  {
   "cell_type": "code",
   "execution_count": 31,
   "id": "55876df0-baf2-439a-b3cb-26c71bd1707f",
   "metadata": {},
   "outputs": [
    {
     "data": {
      "text/plain": [
       "'Nothing is impossible'"
      ]
     },
     "execution_count": 31,
     "metadata": {},
     "output_type": "execute_result"
    }
   ],
   "source": [
    "s.strip()"
   ]
  },
  {
   "cell_type": "markdown",
   "id": "a9897d14-5ba9-41f9-99c1-0845a9c5f831",
   "metadata": {},
   "source": [
    "# List"
   ]
  },
  {
   "cell_type": "code",
   "execution_count": 32,
   "id": "20bf778e-dac6-42c4-9715-d450466c4ddb",
   "metadata": {},
   "outputs": [],
   "source": [
    "l=['BISWA',5,'hello',3.4]"
   ]
  },
  {
   "cell_type": "code",
   "execution_count": 33,
   "id": "29b1f91a-9d43-4898-bad2-670ae529fb03",
   "metadata": {},
   "outputs": [
    {
     "data": {
      "text/plain": [
       "['BISWA', 5, 'hello']"
      ]
     },
     "execution_count": 33,
     "metadata": {},
     "output_type": "execute_result"
    }
   ],
   "source": [
    "l[0:3]"
   ]
  },
  {
   "cell_type": "code",
   "execution_count": 34,
   "id": "3de2f61d-f247-4233-815b-a0001b243922",
   "metadata": {},
   "outputs": [
    {
     "data": {
      "text/plain": [
       "['BISWA', 5, 'hello']"
      ]
     },
     "execution_count": 34,
     "metadata": {},
     "output_type": "execute_result"
    }
   ],
   "source": [
    "l[:3]"
   ]
  },
  {
   "cell_type": "code",
   "execution_count": 35,
   "id": "4cda94b4-326b-4da9-afbb-113695d384de",
   "metadata": {},
   "outputs": [
    {
     "data": {
      "text/plain": [
       "['BISWA', 5, 'hello', 3.4, 'BISWA', 5, 'hello', 3.4]"
      ]
     },
     "execution_count": 35,
     "metadata": {},
     "output_type": "execute_result"
    }
   ],
   "source": [
    "l*2"
   ]
  },
  {
   "cell_type": "code",
   "execution_count": 36,
   "id": "2b2c1031-04d5-419f-bcee-11e75b0f3b12",
   "metadata": {},
   "outputs": [],
   "source": [
    "l.append('Mango')"
   ]
  },
  {
   "cell_type": "code",
   "execution_count": 37,
   "id": "a17a2a51-1aed-4d3f-8066-a96ebe6725aa",
   "metadata": {},
   "outputs": [
    {
     "name": "stdout",
     "output_type": "stream",
     "text": [
      "['BISWA', 5, 'hello', 3.4, 'Mango']\n"
     ]
    }
   ],
   "source": [
    "print(l)"
   ]
  },
  {
   "cell_type": "code",
   "execution_count": 39,
   "id": "4ff9f466-91bb-4872-a3d4-212091476c0c",
   "metadata": {},
   "outputs": [],
   "source": [
    "l.insert(2,'Aman')"
   ]
  },
  {
   "cell_type": "code",
   "execution_count": 40,
   "id": "99ea38d1-8ef5-4793-9fe7-5b715c1b4f94",
   "metadata": {},
   "outputs": [
    {
     "name": "stdout",
     "output_type": "stream",
     "text": [
      "['BISWA', 5, 'Aman', 'Aman', 'hello', 3.4, 'Mango']\n"
     ]
    }
   ],
   "source": [
    "print(l)"
   ]
  },
  {
   "cell_type": "code",
   "execution_count": 41,
   "id": "cbdf039f-4224-462f-bf86-4826906c8b63",
   "metadata": {},
   "outputs": [
    {
     "data": {
      "text/plain": [
       "1"
      ]
     },
     "execution_count": 41,
     "metadata": {},
     "output_type": "execute_result"
    }
   ],
   "source": [
    "l.count(5)"
   ]
  },
  {
   "cell_type": "code",
   "execution_count": 42,
   "id": "73d7335e-c77d-41e8-83d4-a900c40bc07e",
   "metadata": {},
   "outputs": [],
   "source": [
    "l.remove('hello')"
   ]
  },
  {
   "cell_type": "code",
   "execution_count": 43,
   "id": "28e75ce3-c974-4a31-b42c-a62926d78f62",
   "metadata": {},
   "outputs": [
    {
     "name": "stdout",
     "output_type": "stream",
     "text": [
      "['BISWA', 5, 'Aman', 'Aman', 3.4, 'Mango']\n"
     ]
    }
   ],
   "source": [
    "print(l)"
   ]
  },
  {
   "cell_type": "code",
   "execution_count": 44,
   "id": "acfcaaa4-378a-46cc-b7c1-50f72b32b573",
   "metadata": {},
   "outputs": [],
   "source": [
    "l.reverse()"
   ]
  },
  {
   "cell_type": "code",
   "execution_count": 45,
   "id": "6cd9a0dd-fe7a-4e14-a958-e07e53b47041",
   "metadata": {},
   "outputs": [
    {
     "name": "stdout",
     "output_type": "stream",
     "text": [
      "['Mango', 3.4, 'Aman', 'Aman', 5, 'BISWA']\n"
     ]
    }
   ],
   "source": [
    "print(l)"
   ]
  },
  {
   "cell_type": "code",
   "execution_count": 7,
   "id": "d2ee9e30-489e-40f8-b965-0a993bee80ef",
   "metadata": {},
   "outputs": [],
   "source": [
    "list=[4,5,6,7,8,9]"
   ]
  },
  {
   "cell_type": "code",
   "execution_count": 8,
   "id": "da0ffcf3-3fd8-416e-af33-15d4cdcd730e",
   "metadata": {},
   "outputs": [],
   "source": [
    "list.reverse()"
   ]
  },
  {
   "cell_type": "code",
   "execution_count": 9,
   "id": "f10875ee-87c4-4008-8e0a-344a182bd8e0",
   "metadata": {},
   "outputs": [
    {
     "name": "stdout",
     "output_type": "stream",
     "text": [
      "[9, 8, 7, 6, 5, 4]\n"
     ]
    }
   ],
   "source": [
    "print(list)"
   ]
  },
  {
   "cell_type": "code",
   "execution_count": 13,
   "id": "c969f91b-456c-4750-af85-5c1005b9c408",
   "metadata": {},
   "outputs": [
    {
     "name": "stdout",
     "output_type": "stream",
     "text": [
      "[4, 5, 6, 7, 8, 9]\n"
     ]
    }
   ],
   "source": [
    "list.sort()\n",
    "print(list)"
   ]
  },
  {
   "cell_type": "code",
   "execution_count": 14,
   "id": "661e4f89-ef83-4339-bf1b-a748218d9744",
   "metadata": {},
   "outputs": [
    {
     "name": "stdout",
     "output_type": "stream",
     "text": [
      "[4, 5, 6, 8, 9]\n"
     ]
    }
   ],
   "source": [
    "list.pop(3)\n",
    "print(list)"
   ]
  },
  {
   "cell_type": "markdown",
   "id": "44203274-5764-4234-82c4-dbe42ec9d815",
   "metadata": {},
   "source": [
    "# Tuple"
   ]
  },
  {
   "cell_type": "code",
   "execution_count": 3,
   "id": "75bcc558-3c6f-49a3-970c-0c229ab92440",
   "metadata": {},
   "outputs": [],
   "source": [
    "tup=(2,'ram',3.4)"
   ]
  },
  {
   "cell_type": "code",
   "execution_count": 4,
   "id": "9e44dbb2-cfbf-4ca0-9371-01d3eca59a64",
   "metadata": {},
   "outputs": [
    {
     "data": {
      "text/plain": [
       "3.4"
      ]
     },
     "execution_count": 4,
     "metadata": {},
     "output_type": "execute_result"
    }
   ],
   "source": [
    "tup[2]"
   ]
  },
  {
   "cell_type": "code",
   "execution_count": 5,
   "id": "7a24b4c2-1dda-4e44-9eb1-bc6dae848113",
   "metadata": {},
   "outputs": [],
   "source": [
    "tup1=(4,5,8,'bapun')"
   ]
  },
  {
   "cell_type": "code",
   "execution_count": 6,
   "id": "57c245ce-bab8-4987-ae4b-6354ffd98756",
   "metadata": {},
   "outputs": [
    {
     "data": {
      "text/plain": [
       "(2, 'ram', 3.4, 4, 5, 8, 'bapun')"
      ]
     },
     "execution_count": 6,
     "metadata": {},
     "output_type": "execute_result"
    }
   ],
   "source": [
    "tup+tup1"
   ]
  },
  {
   "cell_type": "code",
   "execution_count": 19,
   "id": "93dc0305-bb70-4a55-950b-67cef057f1c2",
   "metadata": {},
   "outputs": [
    {
     "data": {
      "text/plain": [
       "0"
      ]
     },
     "execution_count": 19,
     "metadata": {},
     "output_type": "execute_result"
    }
   ],
   "source": [
    "tup.count(5)"
   ]
  },
  {
   "cell_type": "markdown",
   "id": "d32f7ceb-60e5-4b11-9bbb-870cc53366de",
   "metadata": {},
   "source": [
    "# Dt - 30/05/25"
   ]
  },
  {
   "cell_type": "markdown",
   "id": "b39c8349-4f35-4078-ab94-9a6d18186cd2",
   "metadata": {},
   "source": [
    "# Dictionary"
   ]
  },
  {
   "cell_type": "code",
   "execution_count": 1,
   "id": "78a852e7-7b97-42f0-8f8a-de4a204a7f94",
   "metadata": {},
   "outputs": [],
   "source": [
    "dict={'name':'Bisaw','Roll':47,'Branch':'CSE'}"
   ]
  },
  {
   "cell_type": "code",
   "execution_count": 2,
   "id": "5ff075d2-9fea-4eb6-b106-b925c9bcba69",
   "metadata": {},
   "outputs": [
    {
     "data": {
      "text/plain": [
       "'Bisaw'"
      ]
     },
     "execution_count": 2,
     "metadata": {},
     "output_type": "execute_result"
    }
   ],
   "source": [
    "dict['name']"
   ]
  },
  {
   "cell_type": "code",
   "execution_count": 3,
   "id": "b34e4e65-b1da-4c11-96fc-3c2b600d4b44",
   "metadata": {},
   "outputs": [
    {
     "data": {
      "text/plain": [
       "dict_items([('name', 'Bisaw'), ('Roll', 47), ('Branch', 'CSE')])"
      ]
     },
     "execution_count": 3,
     "metadata": {},
     "output_type": "execute_result"
    }
   ],
   "source": [
    "dict.items()"
   ]
  },
  {
   "cell_type": "code",
   "execution_count": 5,
   "id": "989e674b-d264-4778-bf7b-4ed3f7e9c0de",
   "metadata": {},
   "outputs": [],
   "source": [
    "dict={'Roll':40}\n",
    "dict.update(dict)"
   ]
  },
  {
   "cell_type": "markdown",
   "id": "d08a69b0-efd5-4492-92d9-1c37ad70e47e",
   "metadata": {},
   "source": [
    "# Set"
   ]
  },
  {
   "cell_type": "code",
   "execution_count": 10,
   "id": "aefb079b-2e68-4ae9-8ea5-de2db3159ab4",
   "metadata": {},
   "outputs": [],
   "source": [
    "a={1,2,3,4,5}"
   ]
  },
  {
   "cell_type": "code",
   "execution_count": 11,
   "id": "120d73be-d175-4b5a-ac8d-ffe37a851eae",
   "metadata": {},
   "outputs": [],
   "source": [
    "a.add(6)"
   ]
  },
  {
   "cell_type": "code",
   "execution_count": 12,
   "id": "7e9145cb-c95d-4d1a-9787-54e93d56c66f",
   "metadata": {},
   "outputs": [
    {
     "name": "stdout",
     "output_type": "stream",
     "text": [
      "{1, 2, 3, 4, 5, 6}\n"
     ]
    }
   ],
   "source": [
    "print(a)"
   ]
  },
  {
   "cell_type": "code",
   "execution_count": 20,
   "id": "61783e88-f574-4b27-83b2-94d4f231bc34",
   "metadata": {},
   "outputs": [
    {
     "data": {
      "text/plain": [
       "{1, 2, 3, 4, 5, 6, 9, 10}"
      ]
     },
     "execution_count": 20,
     "metadata": {},
     "output_type": "execute_result"
    }
   ],
   "source": [
    "b={9,10}\n",
    "a.union(b)"
   ]
  },
  {
   "cell_type": "code",
   "execution_count": 21,
   "id": "b813f39f-8fa5-489c-9737-1db2746b6aee",
   "metadata": {},
   "outputs": [
    {
     "data": {
      "text/plain": [
       "set()"
      ]
     },
     "execution_count": 21,
     "metadata": {},
     "output_type": "execute_result"
    }
   ],
   "source": [
    "a.intersection(b)"
   ]
  },
  {
   "cell_type": "code",
   "execution_count": 22,
   "id": "35633021-1b4c-4b62-8846-f2e3a1f0fc56",
   "metadata": {},
   "outputs": [
    {
     "data": {
      "text/plain": [
       "{1, 2, 3, 4, 5, 6}"
      ]
     },
     "execution_count": 22,
     "metadata": {},
     "output_type": "execute_result"
    }
   ],
   "source": [
    "a.difference(b)"
   ]
  },
  {
   "cell_type": "code",
   "execution_count": 23,
   "id": "4456b2aa-7f8a-485d-8dbe-028749efa9f4",
   "metadata": {},
   "outputs": [
    {
     "data": {
      "text/plain": [
       "False"
      ]
     },
     "execution_count": 23,
     "metadata": {},
     "output_type": "execute_result"
    }
   ],
   "source": [
    "b.issubset(a)"
   ]
  },
  {
   "cell_type": "code",
   "execution_count": 24,
   "id": "c726f8cb-58a3-4d57-985d-129426a457c9",
   "metadata": {},
   "outputs": [
    {
     "data": {
      "text/plain": [
       "True"
      ]
     },
     "execution_count": 24,
     "metadata": {},
     "output_type": "execute_result"
    }
   ],
   "source": [
    "a.isdisjoint(b)"
   ]
  },
  {
   "cell_type": "code",
   "execution_count": 25,
   "id": "9f18c7ac-d9e2-4318-9832-17eaba2bae2f",
   "metadata": {},
   "outputs": [],
   "source": [
    "a.remove(1)"
   ]
  },
  {
   "cell_type": "code",
   "execution_count": 26,
   "id": "7182a44d-5f9f-43a6-8ad0-d594a9cedfb2",
   "metadata": {},
   "outputs": [
    {
     "data": {
      "text/plain": [
       "{2, 3, 4, 5, 6}"
      ]
     },
     "execution_count": 26,
     "metadata": {},
     "output_type": "execute_result"
    }
   ],
   "source": [
    "a"
   ]
  },
  {
   "cell_type": "code",
   "execution_count": 28,
   "id": "c57c25f2-a5ef-48ed-8b57-1974676be409",
   "metadata": {},
   "outputs": [],
   "source": [
    "b.add(3)"
   ]
  },
  {
   "cell_type": "code",
   "execution_count": 29,
   "id": "8f4c6733-0cfa-48cb-b980-d2b0f850a5bc",
   "metadata": {},
   "outputs": [
    {
     "data": {
      "text/plain": [
       "{2, 4, 5, 6, 9, 10}"
      ]
     },
     "execution_count": 29,
     "metadata": {},
     "output_type": "execute_result"
    }
   ],
   "source": [
    "a.symmetric_difference(b)"
   ]
  },
  {
   "cell_type": "markdown",
   "id": "0826fadc-62be-4e21-8ba8-3de571a37270",
   "metadata": {},
   "source": [
    "# Arithmetic Opertors"
   ]
  },
  {
   "cell_type": "code",
   "execution_count": 31,
   "id": "2d367472-4e5d-4619-a79f-3d97f45499d8",
   "metadata": {},
   "outputs": [],
   "source": [
    "x=30\n",
    "y=80"
   ]
  },
  {
   "cell_type": "code",
   "execution_count": 32,
   "id": "622a376e-198e-4689-b1b6-9ad6eaace509",
   "metadata": {},
   "outputs": [
    {
     "name": "stdout",
     "output_type": "stream",
     "text": [
      "110\n"
     ]
    }
   ],
   "source": [
    "print(x+y)\n"
   ]
  },
  {
   "cell_type": "code",
   "execution_count": 33,
   "id": "88580be2-149d-4050-8b1f-1db4972e5d4c",
   "metadata": {},
   "outputs": [
    {
     "name": "stdout",
     "output_type": "stream",
     "text": [
      "-50\n"
     ]
    }
   ],
   "source": [
    "print(x-y)"
   ]
  },
  {
   "cell_type": "code",
   "execution_count": 34,
   "id": "5b859d69-bb21-4cfa-ab8c-2d9dfda9dffe",
   "metadata": {},
   "outputs": [
    {
     "name": "stdout",
     "output_type": "stream",
     "text": [
      "0.375\n"
     ]
    }
   ],
   "source": [
    "print(x/y)"
   ]
  },
  {
   "cell_type": "code",
   "execution_count": 35,
   "id": "3201113e-2522-435d-bfc2-a690c5c96703",
   "metadata": {},
   "outputs": [
    {
     "name": "stdout",
     "output_type": "stream",
     "text": [
      "2400\n"
     ]
    }
   ],
   "source": [
    "print(x*y)"
   ]
  },
  {
   "cell_type": "code",
   "execution_count": 36,
   "id": "e715f139-3907-4bf0-9ea7-27a57fe91aa1",
   "metadata": {},
   "outputs": [
    {
     "name": "stdout",
     "output_type": "stream",
     "text": [
      "30\n"
     ]
    }
   ],
   "source": [
    "print(x%y)"
   ]
  },
  {
   "cell_type": "code",
   "execution_count": 37,
   "id": "4b1369a7-fa8b-4bf2-b406-871eefede2ff",
   "metadata": {},
   "outputs": [
    {
     "name": "stdout",
     "output_type": "stream",
     "text": [
      "0\n"
     ]
    }
   ],
   "source": [
    "# floor division\n",
    "print(x//y)"
   ]
  },
  {
   "cell_type": "markdown",
   "id": "c1300068-f368-45e6-a715-0b5c23076127",
   "metadata": {},
   "source": [
    "# Comparsion operators"
   ]
  },
  {
   "cell_type": "code",
   "execution_count": 41,
   "id": "0d9571f6-900d-4966-9e6b-7688ad7da19b",
   "metadata": {},
   "outputs": [
    {
     "name": "stdout",
     "output_type": "stream",
     "text": [
      "True\n",
      "False\n",
      "True\n",
      "False\n"
     ]
    }
   ],
   "source": [
    "print(x<y)\n",
    "print(x>y)\n",
    "print(x!=y)\n",
    "print(x==y)"
   ]
  },
  {
   "cell_type": "markdown",
   "id": "6571d727-c7f4-4b70-bce1-8b513cc2d6f3",
   "metadata": {},
   "source": [
    "# Logical operators"
   ]
  },
  {
   "cell_type": "code",
   "execution_count": 44,
   "id": "91a5d09e-eecd-43a6-8c90-6314cb32a15d",
   "metadata": {},
   "outputs": [
    {
     "name": "stdout",
     "output_type": "stream",
     "text": [
      "x and y is False\n",
      "x or y is True\n"
     ]
    }
   ],
   "source": [
    "x=True\n",
    "y=False\n",
    "print('x and y is',x and y)\n",
    "print('x or y is',x or y)"
   ]
  },
  {
   "cell_type": "code",
   "execution_count": 45,
   "id": "804ae13e-a7f5-4e7e-868d-64961dde28f1",
   "metadata": {},
   "outputs": [
    {
     "name": "stdout",
     "output_type": "stream",
     "text": [
      "False\n"
     ]
    }
   ],
   "source": [
    "a=5\n",
    "b=5\n",
    "print(x is y)"
   ]
  },
  {
   "cell_type": "code",
   "execution_count": 46,
   "id": "31aa8e5a-14f7-41aa-a697-b22e2713796d",
   "metadata": {},
   "outputs": [
    {
     "name": "stdout",
     "output_type": "stream",
     "text": [
      "True\n"
     ]
    }
   ],
   "source": [
    "print(x is not y)"
   ]
  },
  {
   "cell_type": "markdown",
   "id": "6849d77c-03ab-4bde-81eb-a96fe5d91f6c",
   "metadata": {},
   "source": [
    "# Decision making "
   ]
  },
  {
   "cell_type": "code",
   "execution_count": 47,
   "id": "1e2b8ab1-fa42-4fc6-b1ba-229e79049f94",
   "metadata": {},
   "outputs": [],
   "source": [
    "# if Statement"
   ]
  },
  {
   "cell_type": "code",
   "execution_count": 50,
   "id": "5fc8e0d5-6bbc-4f87-8101-fc528d5e5782",
   "metadata": {},
   "outputs": [
    {
     "name": "stdin",
     "output_type": "stream",
     "text": [
      "Enter a number 3\n"
     ]
    },
    {
     "name": "stdout",
     "output_type": "stream",
     "text": [
      "3 is positive\n"
     ]
    }
   ],
   "source": [
    "n=int(input('Enter a number'))\n",
    "if n>0:\n",
    "    print(n,'is positive')"
   ]
  },
  {
   "cell_type": "code",
   "execution_count": 51,
   "id": "7bb3c16b-c56b-4bf6-9071-15444cc53527",
   "metadata": {},
   "outputs": [],
   "source": [
    "# if else statement"
   ]
  },
  {
   "cell_type": "code",
   "execution_count": 52,
   "id": "86f05580-21b4-4a70-ac4d-1f054c43a429",
   "metadata": {},
   "outputs": [
    {
     "name": "stdin",
     "output_type": "stream",
     "text": [
      "Enter a number -3\n"
     ]
    },
    {
     "name": "stdout",
     "output_type": "stream",
     "text": [
      "-3 is negative\n"
     ]
    }
   ],
   "source": [
    "n=int(input('Enter a number'))\n",
    "if n>0:\n",
    "    print(n,'is positive')\n",
    "else:\n",
    "    print(n,'is negative')"
   ]
  },
  {
   "cell_type": "code",
   "execution_count": 53,
   "id": "80536200-cc0f-45b0-9607-131cd074a168",
   "metadata": {},
   "outputs": [],
   "source": [
    "# if elif statement"
   ]
  },
  {
   "cell_type": "code",
   "execution_count": 54,
   "id": "f4b75dba-ecc4-4ce4-8c48-fddb6c1c6d86",
   "metadata": {},
   "outputs": [
    {
     "name": "stdin",
     "output_type": "stream",
     "text": [
      "Enter a number 0\n"
     ]
    },
    {
     "name": "stdout",
     "output_type": "stream",
     "text": [
      "0 is Zero\n"
     ]
    }
   ],
   "source": [
    "n=int(input('Enter a number'))\n",
    "if n>0:\n",
    "    print(n,'is positive')\n",
    "elif n==0:\n",
    "    print(n,'is Zero')\n",
    "else:\n",
    "    print(n,'is negative')"
   ]
  },
  {
   "cell_type": "code",
   "execution_count": 55,
   "id": "78f0dbe9-d3d3-4da2-8b57-d83b3365fdda",
   "metadata": {},
   "outputs": [
    {
     "name": "stdin",
     "output_type": "stream",
     "text": [
      "Enter a number 60\n"
     ]
    },
    {
     "name": "stdout",
     "output_type": "stream",
     "text": [
      "60 is even\n"
     ]
    }
   ],
   "source": [
    "n=int(input('Enter a number'))\n",
    "if n%2==0:\n",
    "    print(n,'is even')\n",
    "else:\n",
    "    print(n,'is Odd')"
   ]
  },
  {
   "cell_type": "code",
   "execution_count": 56,
   "id": "9c16cb90-e3fe-41e1-8c2e-d34ca61b4939",
   "metadata": {},
   "outputs": [
    {
     "name": "stdout",
     "output_type": "stream",
     "text": [
      "0\n",
      "1\n",
      "2\n",
      "3\n",
      "4\n",
      "5\n",
      "6\n",
      "7\n",
      "8\n",
      "9\n",
      "10\n"
     ]
    }
   ],
   "source": [
    "for i in range (11):\n",
    "    print (i)\n",
    "    "
   ]
  },
  {
   "cell_type": "code",
   "execution_count": 57,
   "id": "9dce2344-5cbc-4b4e-abfa-fd4062cca8b5",
   "metadata": {},
   "outputs": [
    {
     "name": "stdout",
     "output_type": "stream",
     "text": [
      "0 2 4 6 8 "
     ]
    }
   ],
   "source": [
    "for i in range (0,10,2):\n",
    "    print(i,end=\" \")"
   ]
  },
  {
   "cell_type": "code",
   "execution_count": 58,
   "id": "c428b759-183d-4b5a-9c88-9535358c2583",
   "metadata": {},
   "outputs": [
    {
     "name": "stdout",
     "output_type": "stream",
     "text": [
      "9😒8😒7😒6😒"
     ]
    }
   ],
   "source": [
    "for i in range(9,5,-1):\n",
    "    print(i,end=\"😒\")"
   ]
  },
  {
   "cell_type": "code",
   "execution_count": 61,
   "id": "3d7b6343-d781-414e-b11f-a4021cf6f2fc",
   "metadata": {},
   "outputs": [
    {
     "name": "stdin",
     "output_type": "stream",
     "text": [
      "Enter The  number: 5\n"
     ]
    },
    {
     "name": "stdout",
     "output_type": "stream",
     "text": [
      "15\n"
     ]
    }
   ],
   "source": [
    "n=int(input(\"Enter The  number:\"))\n",
    "s=0\n",
    "for i in range(0,n+1):\n",
    "    s+=i\n",
    "print(s)"
   ]
  },
  {
   "cell_type": "code",
   "execution_count": 62,
   "id": "e3cbf1a1-db60-4558-99d8-c582007b88fc",
   "metadata": {},
   "outputs": [
    {
     "name": "stdout",
     "output_type": "stream",
     "text": [
      "1😊\n",
      "2😊2😊\n",
      "3😊3😊3😊\n",
      "4😊4😊4😊4😊\n",
      "5😊5😊5😊5😊5😊\n"
     ]
    }
   ],
   "source": [
    "for i in range (1,6):\n",
    "    for j in range(i):\n",
    "        print(i,end=\"😊\")\n",
    "    print()"
   ]
  },
  {
   "cell_type": "code",
   "execution_count": 65,
   "id": "7d5dea22-6446-4f4f-a979-3685dd527e6c",
   "metadata": {},
   "outputs": [
    {
     "name": "stdout",
     "output_type": "stream",
     "text": [
      "* \n",
      "* * \n",
      "* * * \n",
      "* * * * \n",
      "* * * * * \n"
     ]
    }
   ],
   "source": [
    "for i in range (1,6):\n",
    "    for j in range(i):\n",
    "        print('*',end=\" \")\n",
    "    print()"
   ]
  },
  {
   "cell_type": "code",
   "execution_count": 68,
   "id": "4f953897-356d-407e-9f01-4722f2605979",
   "metadata": {},
   "outputs": [
    {
     "name": "stdout",
     "output_type": "stream",
     "text": [
      "* \n",
      "* * \n",
      "* * * \n",
      "* * * * \n",
      "* * * * * \n",
      "* * * * * * \n",
      "* * * * * \n",
      "* * * * \n",
      "* * * \n",
      "* * \n",
      "* \n"
     ]
    }
   ],
   "source": [
    "for i in range (1,6):\n",
    "    for j in range(i):\n",
    "        print('*',end=\" \")\n",
    "    print()\n",
    "for i in range (6,0,-1):\n",
    "    for j in range(i):\n",
    "        print('*',end=\" \")\n",
    "    print()"
   ]
  },
  {
   "cell_type": "code",
   "execution_count": 69,
   "id": "7e116348-7bc2-4109-b0e9-20d93df2b800",
   "metadata": {},
   "outputs": [],
   "source": [
    "# while loop"
   ]
  },
  {
   "cell_type": "code",
   "execution_count": 70,
   "id": "15536c64-7a9b-481b-a128-5113cc640ebc",
   "metadata": {},
   "outputs": [
    {
     "name": "stdout",
     "output_type": "stream",
     "text": [
      "1\n",
      "2\n",
      "3\n",
      "4\n"
     ]
    }
   ],
   "source": [
    "i=1\n",
    "while i<5:\n",
    "    print(i)\n",
    "    i+=1"
   ]
  },
  {
   "cell_type": "code",
   "execution_count": 72,
   "id": "ce52994a-9672-4a0b-82f6-f87587ae2200",
   "metadata": {},
   "outputs": [
    {
     "name": "stdin",
     "output_type": "stream",
     "text": [
      "Enter a number: 5\n"
     ]
    },
    {
     "name": "stdout",
     "output_type": "stream",
     "text": [
      "15\n"
     ]
    }
   ],
   "source": [
    "# sum of n numbers\n",
    "n= int(input(\"Enter a number:\"))\n",
    "i=1\n",
    "sum=0\n",
    "while i<=n:\n",
    "    sum+=i\n",
    "    i+=1\n",
    "print(sum)"
   ]
  },
  {
   "cell_type": "code",
   "execution_count": 74,
   "id": "3138c1a5-544b-47fb-a671-e729e48761b9",
   "metadata": {},
   "outputs": [
    {
     "name": "stdout",
     "output_type": "stream",
     "text": [
      "inside loop\n",
      "inside loop\n",
      "inside loop\n",
      "out of the loop\n"
     ]
    }
   ],
   "source": [
    "# while loop with else\n",
    "count=0\n",
    "while count<3:\n",
    "    print(\"inside loop\")\n",
    "    count+=1\n",
    "else:\n",
    "    print(\"out of the loop\")\n",
    "    "
   ]
  },
  {
   "cell_type": "code",
   "execution_count": 1,
   "id": "39698c96-b120-491c-b935-a9a0f94e0c03",
   "metadata": {},
   "outputs": [
    {
     "name": "stdin",
     "output_type": "stream",
     "text": [
      "Enter a number: 5\n"
     ]
    },
    {
     "name": "stdout",
     "output_type": "stream",
     "text": [
      "5 x 1 = 5\n",
      "5 x 2 = 10\n",
      "5 x 3 = 15\n",
      "5 x 4 = 20\n",
      "5 x 5 = 25\n",
      "5 x 6 = 30\n",
      "5 x 7 = 35\n",
      "5 x 8 = 40\n",
      "5 x 9 = 45\n",
      "5 x 10 = 50\n"
     ]
    }
   ],
   "source": [
    "n=int(input(\"Enter a number:\"))\n",
    "i=1\n",
    "while i<=10:\n",
    "    print(f\"{n} x {i} =\",n*i)\n",
    "    i+=1"
   ]
  },
  {
   "cell_type": "markdown",
   "id": "26fea2a7-d52e-4b5d-b8b9-4ec564ea28dd",
   "metadata": {},
   "source": [
    "# Dt- 31/05/25"
   ]
  },
  {
   "cell_type": "code",
   "execution_count": 13,
   "id": "6d74d963-32d3-4e55-b324-93030d7c17cf",
   "metadata": {},
   "outputs": [
    {
     "name": "stdout",
     "output_type": "stream",
     "text": [
      "p\n",
      "y\n",
      "t\n"
     ]
    }
   ],
   "source": [
    "for i in 'python':\n",
    "    if i=='h':\n",
    "        break\n",
    "    print(i)"
   ]
  },
  {
   "cell_type": "code",
   "execution_count": 16,
   "id": "8d32abd0-bf66-414b-b951-eda80a5564fe",
   "metadata": {},
   "outputs": [
    {
     "name": "stdout",
     "output_type": "stream",
     "text": [
      "p\n",
      "y\n",
      "t\n",
      "o\n",
      "n\n"
     ]
    }
   ],
   "source": [
    "for i in 'python':\n",
    "    if i=='h':\n",
    "        continue\n",
    "    print(i)"
   ]
  },
  {
   "cell_type": "code",
   "execution_count": 17,
   "id": "a814c841-bc7a-48b2-90a3-b3c01cc13494",
   "metadata": {},
   "outputs": [
    {
     "name": "stdout",
     "output_type": "stream",
     "text": [
      "p\n",
      "y\n",
      "t\n",
      "h\n",
      "o\n",
      "n\n"
     ]
    }
   ],
   "source": [
    "for i in 'python':\n",
    "    if i=='h':\n",
    "        pass\n",
    "    print(i)"
   ]
  },
  {
   "cell_type": "code",
   "execution_count": 18,
   "id": "d7e38deb-3bfd-4f5a-b563-c81f13418dc8",
   "metadata": {},
   "outputs": [],
   "source": [
    "if 5>9:\n",
    "    pass"
   ]
  },
  {
   "cell_type": "code",
   "execution_count": 19,
   "id": "bdd6b37f-2618-4dd4-9010-0dbcd3123db9",
   "metadata": {},
   "outputs": [],
   "source": [
    "# Funtion"
   ]
  },
  {
   "cell_type": "code",
   "execution_count": 1,
   "id": "77d46a58-4a30-429f-ba39-528bdf756a88",
   "metadata": {},
   "outputs": [
    {
     "data": {
      "text/plain": [
       "45"
      ]
     },
     "execution_count": 1,
     "metadata": {},
     "output_type": "execute_result"
    }
   ],
   "source": [
    "max(45,21,3,45)"
   ]
  },
  {
   "cell_type": "code",
   "execution_count": 10,
   "id": "172027ff-8f89-4ac0-9fbb-f1fe94489a5f",
   "metadata": {},
   "outputs": [
    {
     "data": {
      "text/plain": [
       "2"
      ]
     },
     "execution_count": 10,
     "metadata": {},
     "output_type": "execute_result"
    }
   ],
   "source": [
    "min(45,21,3,45,2)"
   ]
  },
  {
   "cell_type": "code",
   "execution_count": 7,
   "id": "251ea00c-7a66-4a9d-9a10-e7155e915019",
   "metadata": {},
   "outputs": [],
   "source": [
    "def greet():\n",
    "    print(\"Hello\")"
   ]
  },
  {
   "cell_type": "code",
   "execution_count": 8,
   "id": "1f20c915-8398-4155-a959-782a2df10639",
   "metadata": {},
   "outputs": [
    {
     "name": "stdout",
     "output_type": "stream",
     "text": [
      "Hello\n"
     ]
    }
   ],
   "source": [
    "greet()"
   ]
  },
  {
   "cell_type": "code",
   "execution_count": 9,
   "id": "8d9482ab-8290-488b-b383-740811dfbaac",
   "metadata": {},
   "outputs": [],
   "source": [
    "def greet(name):\n",
    "    print(\"Hello\",name)"
   ]
  },
  {
   "cell_type": "code",
   "execution_count": 13,
   "id": "7ecf2aab-3275-490b-9299-afb549d9ca2b",
   "metadata": {},
   "outputs": [
    {
     "name": "stdout",
     "output_type": "stream",
     "text": [
      "Hello Biswa\n"
     ]
    }
   ],
   "source": [
    "greet('Biswa')"
   ]
  },
  {
   "cell_type": "code",
   "execution_count": 11,
   "id": "be64de5e-e18c-47aa-9d76-bf77111aa926",
   "metadata": {},
   "outputs": [],
   "source": [
    "def add(num1,num2):\n",
    "    return num1+num2"
   ]
  },
  {
   "cell_type": "code",
   "execution_count": 12,
   "id": "420ee935-ad52-4a21-bba2-8bf7a50ed1cb",
   "metadata": {},
   "outputs": [
    {
     "data": {
      "text/plain": [
       "11"
      ]
     },
     "execution_count": 12,
     "metadata": {},
     "output_type": "execute_result"
    }
   ],
   "source": [
    "add(5,6)"
   ]
  },
  {
   "cell_type": "code",
   "execution_count": 1,
   "id": "ff27a0a8-c7c4-48be-9b4f-fc3288092998",
   "metadata": {},
   "outputs": [],
   "source": [
    "def fun(*abc):\n",
    "    return sum(abc)"
   ]
  },
  {
   "cell_type": "code",
   "execution_count": 2,
   "id": "200f5ae2-2147-4ed3-8ee4-909792a0cf54",
   "metadata": {},
   "outputs": [
    {
     "data": {
      "text/plain": [
       "309"
      ]
     },
     "execution_count": 2,
     "metadata": {},
     "output_type": "execute_result"
    }
   ],
   "source": [
    "fun(23,43,56,67,88,32)"
   ]
  },
  {
   "cell_type": "code",
   "execution_count": 4,
   "id": "7f03603c-9f4b-4b2c-bcf1-bd5b11598408",
   "metadata": {},
   "outputs": [],
   "source": [
    "def isEven(n):\n",
    "    if n%2==0:\n",
    "        return 'Even'\n",
    "    else:\n",
    "        return 'Not Even'"
   ]
  },
  {
   "cell_type": "code",
   "execution_count": 5,
   "id": "fcfd400e-fecb-46b5-9187-5429438c879d",
   "metadata": {},
   "outputs": [
    {
     "data": {
      "text/plain": [
       "'Even'"
      ]
     },
     "execution_count": 5,
     "metadata": {},
     "output_type": "execute_result"
    }
   ],
   "source": [
    "isEven(8)"
   ]
  },
  {
   "cell_type": "code",
   "execution_count": 10,
   "id": "9b6bc6ce-e44f-44e1-9ed7-ccb5d0da7cd1",
   "metadata": {},
   "outputs": [],
   "source": [
    "# Write a funtion to calculate the sum of all integers upto given number\n",
    "def add(n):\n",
    "    s=0\n",
    "    for i in range(1,n+1):\n",
    "        s+=i\n",
    "    return s\n"
   ]
  },
  {
   "cell_type": "code",
   "execution_count": 11,
   "id": "f9156c80-e96c-4f5c-a67c-1647453790bf",
   "metadata": {},
   "outputs": [
    {
     "data": {
      "text/plain": [
       "15"
      ]
     },
     "execution_count": 11,
     "metadata": {},
     "output_type": "execute_result"
    }
   ],
   "source": [
    "add(5)"
   ]
  },
  {
   "cell_type": "code",
   "execution_count": 12,
   "id": "79fd6649-afd5-4c2f-98ef-f8a45bf37cf0",
   "metadata": {},
   "outputs": [],
   "source": [
    "# OOPS"
   ]
  },
  {
   "cell_type": "code",
   "execution_count": 17,
   "id": "d6279a3e-3347-4f60-bd71-28f834e21af6",
   "metadata": {},
   "outputs": [],
   "source": [
    "class Apple:\n",
    "    color='Red'\n",
    "    taste='sweet'\n",
    "    def fun(abc):\n",
    "        return 'An Apple a day keeps doctor away🍎'"
   ]
  },
  {
   "cell_type": "code",
   "execution_count": 18,
   "id": "3ad5a345-d7ff-4d96-bfd1-6b87b2d8a0a3",
   "metadata": {},
   "outputs": [],
   "source": [
    "obj=Apple()"
   ]
  },
  {
   "cell_type": "code",
   "execution_count": 19,
   "id": "24bd4563-3ca4-4e26-b713-464e60a23c52",
   "metadata": {},
   "outputs": [
    {
     "data": {
      "text/plain": [
       "'Red'"
      ]
     },
     "execution_count": 19,
     "metadata": {},
     "output_type": "execute_result"
    }
   ],
   "source": [
    "obj.color"
   ]
  },
  {
   "cell_type": "code",
   "execution_count": 20,
   "id": "9d35631b-3dd6-40ce-a169-2288eb8ebecf",
   "metadata": {},
   "outputs": [
    {
     "data": {
      "text/plain": [
       "'sweet'"
      ]
     },
     "execution_count": 20,
     "metadata": {},
     "output_type": "execute_result"
    }
   ],
   "source": [
    "obj.taste"
   ]
  },
  {
   "cell_type": "code",
   "execution_count": 28,
   "id": "00bea634-b812-4650-adeb-bb7f398d8ee7",
   "metadata": {},
   "outputs": [],
   "source": [
    "class Apple:\n",
    "    color='Red'\n",
    "    taste='sweet'\n",
    "    amount=100\n",
    "    def price(abc,qty):\n",
    "        return abc.amount*qty"
   ]
  },
  {
   "cell_type": "code",
   "execution_count": 29,
   "id": "cb10b562-69b9-4abf-a39b-8aa61220c493",
   "metadata": {},
   "outputs": [],
   "source": [
    "o=Apple()"
   ]
  },
  {
   "cell_type": "code",
   "execution_count": 30,
   "id": "fc542173-e31f-4218-b139-f68b6903a5a5",
   "metadata": {},
   "outputs": [
    {
     "data": {
      "text/plain": [
       "100"
      ]
     },
     "execution_count": 30,
     "metadata": {},
     "output_type": "execute_result"
    }
   ],
   "source": [
    "o.amount"
   ]
  },
  {
   "cell_type": "code",
   "execution_count": 31,
   "id": "10575e29-eafa-4314-afd5-4b6e416c9c6c",
   "metadata": {},
   "outputs": [
    {
     "data": {
      "text/plain": [
       "200"
      ]
     },
     "execution_count": 31,
     "metadata": {},
     "output_type": "execute_result"
    }
   ],
   "source": [
    "o.price(2)"
   ]
  },
  {
   "cell_type": "code",
   "execution_count": 37,
   "id": "47aba5a4-f8fb-469e-9505-27b8c7db78bc",
   "metadata": {},
   "outputs": [],
   "source": [
    "class Bird:\n",
    "    name='parrot'\n",
    "    age=2\n",
    "    color='green'\n",
    "    weight=50\n",
    "    def eat(self,amt):\n",
    "        return self.weight+amt"
   ]
  },
  {
   "cell_type": "code",
   "execution_count": 38,
   "id": "ef865bdd-7745-4db0-ad31-91944082e6f6",
   "metadata": {},
   "outputs": [],
   "source": [
    "b=Bird()"
   ]
  },
  {
   "cell_type": "code",
   "execution_count": 39,
   "id": "9c3b33db-710d-4f57-b11a-2c34b9c01233",
   "metadata": {},
   "outputs": [
    {
     "data": {
      "text/plain": [
       "70"
      ]
     },
     "execution_count": 39,
     "metadata": {},
     "output_type": "execute_result"
    }
   ],
   "source": [
    "b.eat(20)"
   ]
  },
  {
   "cell_type": "code",
   "execution_count": 1,
   "id": "9485d989-fbce-4d14-b7a0-d0c5c6f9a6e9",
   "metadata": {},
   "outputs": [],
   "source": [
    "import numpy as np\n",
    "a=np.array([1,2,3,4,5])"
   ]
  },
  {
   "cell_type": "code",
   "execution_count": 2,
   "id": "7c2a31b8-a468-4097-96ef-e36dc8d771f3",
   "metadata": {},
   "outputs": [
    {
     "data": {
      "text/plain": [
       "array([1, 2, 3, 4, 5])"
      ]
     },
     "execution_count": 2,
     "metadata": {},
     "output_type": "execute_result"
    }
   ],
   "source": [
    "a"
   ]
  },
  {
   "cell_type": "code",
   "execution_count": 3,
   "id": "6484bdd7-f8c4-41fd-9a4b-976a5a1b8a0d",
   "metadata": {},
   "outputs": [
    {
     "data": {
      "text/plain": [
       "numpy.ndarray"
      ]
     },
     "execution_count": 3,
     "metadata": {},
     "output_type": "execute_result"
    }
   ],
   "source": [
    "type(a)"
   ]
  },
  {
   "cell_type": "code",
   "execution_count": 4,
   "id": "2f6a5dac-9760-4d94-9e46-e3361f4d5724",
   "metadata": {},
   "outputs": [],
   "source": [
    "s=np.array({1,23,4,45,465,74,757,65,4,46,56,3,53,7})"
   ]
  },
  {
   "cell_type": "code",
   "execution_count": 5,
   "id": "a60d9cce-2efa-43e8-9f52-3dd78632fff2",
   "metadata": {},
   "outputs": [
    {
     "data": {
      "text/plain": [
       "array({65, 1, 3, 4, 7, 74, 45, 46, 465, 757, 53, 23, 56}, dtype=object)"
      ]
     },
     "execution_count": 5,
     "metadata": {},
     "output_type": "execute_result"
    }
   ],
   "source": [
    "s"
   ]
  },
  {
   "cell_type": "code",
   "execution_count": 7,
   "id": "16e45c4a-76a6-4e00-8b67-f7077373ea01",
   "metadata": {},
   "outputs": [],
   "source": [
    "d=np.array({'a':2,'b':4})"
   ]
  },
  {
   "cell_type": "code",
   "execution_count": 8,
   "id": "6cddbd10-e9a8-4a86-a982-af1bd806a564",
   "metadata": {},
   "outputs": [
    {
     "data": {
      "text/plain": [
       "array({'a': 2, 'b': 4}, dtype=object)"
      ]
     },
     "execution_count": 8,
     "metadata": {},
     "output_type": "execute_result"
    }
   ],
   "source": [
    "d"
   ]
  },
  {
   "cell_type": "markdown",
   "id": "b1245a03-7565-4fc1-9c91-f202a4a91cea",
   "metadata": {},
   "source": [
    "# Dt- 02/06/25"
   ]
  },
  {
   "cell_type": "code",
   "execution_count": 3,
   "id": "508f1894-ec38-4ec3-aa04-f53cc5c72a9f",
   "metadata": {},
   "outputs": [
    {
     "data": {
      "text/plain": [
       "array([[ 2,  3,  4],\n",
       "       [ 5,  6,  7],\n",
       "       [ 8,  9, 10]])"
      ]
     },
     "execution_count": 3,
     "metadata": {},
     "output_type": "execute_result"
    }
   ],
   "source": [
    "import numpy as np\n",
    "a=np.array([(2,3,4),(5,6,7),(8,9,10)])\n",
    "a"
   ]
  },
  {
   "cell_type": "code",
   "execution_count": 4,
   "id": "3ee8e465-6c5a-4911-b2ea-dd5a4815efc3",
   "metadata": {},
   "outputs": [
    {
     "data": {
      "text/plain": [
       "(3, 3)"
      ]
     },
     "execution_count": 4,
     "metadata": {},
     "output_type": "execute_result"
    }
   ],
   "source": [
    "a.shape"
   ]
  },
  {
   "cell_type": "code",
   "execution_count": 5,
   "id": "1c0266b1-5c39-4ae3-9f9a-79836915bdc6",
   "metadata": {},
   "outputs": [
    {
     "data": {
      "text/plain": [
       "9"
      ]
     },
     "execution_count": 5,
     "metadata": {},
     "output_type": "execute_result"
    }
   ],
   "source": [
    "a.size"
   ]
  },
  {
   "cell_type": "code",
   "execution_count": 6,
   "id": "fc1a2bea-48ac-49da-9063-d8977643def6",
   "metadata": {},
   "outputs": [
    {
     "data": {
      "text/plain": [
       "2"
      ]
     },
     "execution_count": 6,
     "metadata": {},
     "output_type": "execute_result"
    }
   ],
   "source": [
    "a.ndim"
   ]
  },
  {
   "cell_type": "code",
   "execution_count": 7,
   "id": "6b5e33d3-be70-4cc5-80fd-c6c5574664d7",
   "metadata": {},
   "outputs": [
    {
     "data": {
      "text/plain": [
       "array([1, 3, 5, 7, 9])"
      ]
     },
     "execution_count": 7,
     "metadata": {},
     "output_type": "execute_result"
    }
   ],
   "source": [
    "np.arange(1,11,2)"
   ]
  },
  {
   "cell_type": "code",
   "execution_count": 8,
   "id": "bee175f9-8141-43e5-a757-e0ce0002465d",
   "metadata": {},
   "outputs": [
    {
     "data": {
      "text/plain": [
       "array([ 1,  2,  3,  4,  5,  6,  7,  8,  9, 10, 11, 12, 13, 14])"
      ]
     },
     "execution_count": 8,
     "metadata": {},
     "output_type": "execute_result"
    }
   ],
   "source": [
    "np.arange(1,15)"
   ]
  },
  {
   "cell_type": "code",
   "execution_count": 9,
   "id": "beb264e0-0a6b-457d-9e94-33ce659150fe",
   "metadata": {},
   "outputs": [
    {
     "data": {
      "text/plain": [
       "array([0., 0., 0., 0.])"
      ]
     },
     "execution_count": 9,
     "metadata": {},
     "output_type": "execute_result"
    }
   ],
   "source": [
    "np.zeros(4)"
   ]
  },
  {
   "cell_type": "code",
   "execution_count": 10,
   "id": "a1f13c41-1cee-47d7-a6b7-780855f27d21",
   "metadata": {},
   "outputs": [],
   "source": [
    "c=np.zeros((4,4),dtype=int)"
   ]
  },
  {
   "cell_type": "code",
   "execution_count": 11,
   "id": "de1740af-ff0b-4f0d-8120-5b1cbe4b2fdb",
   "metadata": {},
   "outputs": [
    {
     "data": {
      "text/plain": [
       "array([[0, 0, 0, 0],\n",
       "       [0, 0, 0, 0],\n",
       "       [0, 0, 0, 0],\n",
       "       [0, 0, 0, 0]])"
      ]
     },
     "execution_count": 11,
     "metadata": {},
     "output_type": "execute_result"
    }
   ],
   "source": [
    "c"
   ]
  },
  {
   "cell_type": "code",
   "execution_count": 12,
   "id": "6114f527-4cf7-4b98-a5c0-820e6846ddef",
   "metadata": {},
   "outputs": [
    {
     "data": {
      "text/plain": [
       "array([1., 1., 1.])"
      ]
     },
     "execution_count": 12,
     "metadata": {},
     "output_type": "execute_result"
    }
   ],
   "source": [
    "np.ones(3)"
   ]
  },
  {
   "cell_type": "code",
   "execution_count": 13,
   "id": "9b8a6545-0ce6-4303-b7ac-92897118ff10",
   "metadata": {},
   "outputs": [
    {
     "data": {
      "text/plain": [
       "array([[1., 1., 1., 1.],\n",
       "       [1., 1., 1., 1.],\n",
       "       [1., 1., 1., 1.],\n",
       "       [1., 1., 1., 1.]])"
      ]
     },
     "execution_count": 13,
     "metadata": {},
     "output_type": "execute_result"
    }
   ],
   "source": [
    "np.ones((4,4))"
   ]
  },
  {
   "cell_type": "code",
   "execution_count": 14,
   "id": "086779e3-0f01-4f90-ac28-ca05eb798a08",
   "metadata": {},
   "outputs": [
    {
     "data": {
      "text/plain": [
       "array([[7, 7, 7, 7],\n",
       "       [7, 7, 7, 7],\n",
       "       [7, 7, 7, 7]])"
      ]
     },
     "execution_count": 14,
     "metadata": {},
     "output_type": "execute_result"
    }
   ],
   "source": [
    "np.full((3,4),7)"
   ]
  },
  {
   "cell_type": "code",
   "execution_count": 15,
   "id": "79955d33-cc15-4fe4-ac4b-e029492be64f",
   "metadata": {},
   "outputs": [
    {
     "data": {
      "text/plain": [
       "array([ 1.,  4.,  7., 10.])"
      ]
     },
     "execution_count": 15,
     "metadata": {},
     "output_type": "execute_result"
    }
   ],
   "source": [
    "np.linspace(1,10,4)"
   ]
  },
  {
   "cell_type": "code",
   "execution_count": 16,
   "id": "30ed777b-9818-4bf1-af04-4aea580b518e",
   "metadata": {},
   "outputs": [
    {
     "data": {
      "text/plain": [
       "array([[1., 0., 0.],\n",
       "       [0., 1., 0.],\n",
       "       [0., 0., 1.]])"
      ]
     },
     "execution_count": 16,
     "metadata": {},
     "output_type": "execute_result"
    }
   ],
   "source": [
    "np.eye(3)"
   ]
  },
  {
   "cell_type": "code",
   "execution_count": 17,
   "id": "2d6d2455-df60-4c16-a08c-dfa1115e66c5",
   "metadata": {},
   "outputs": [
    {
     "data": {
      "text/plain": [
       "array([[0.57908873, 0.36573564, 0.41045547, 0.14759784],\n",
       "       [0.79623555, 0.43814054, 0.1893319 , 0.30868124],\n",
       "       [0.43147778, 0.07518698, 0.81874049, 0.61986475]])"
      ]
     },
     "execution_count": 17,
     "metadata": {},
     "output_type": "execute_result"
    }
   ],
   "source": [
    "np.random.rand(3,4)"
   ]
  },
  {
   "cell_type": "code",
   "execution_count": 18,
   "id": "0f879ec1-ef96-411c-afd7-468eb9443430",
   "metadata": {},
   "outputs": [
    {
     "data": {
      "text/plain": [
       "array([[10.78785563, 72.91513758, 59.19314827, 84.30964268],\n",
       "       [27.03350493, 53.00165684, 56.45647672, 44.86060865],\n",
       "       [91.43150476, 32.7542948 , 48.86333788, 85.17566236]])"
      ]
     },
     "execution_count": 18,
     "metadata": {},
     "output_type": "execute_result"
    }
   ],
   "source": [
    "np.random.rand(3,4)*100"
   ]
  },
  {
   "cell_type": "code",
   "execution_count": 19,
   "id": "c8c627e0-414d-4d81-8eee-b2a2b00f3fe8",
   "metadata": {},
   "outputs": [
    {
     "data": {
      "text/plain": [
       "array([[4, 7, 2],\n",
       "       [4, 9, 1],\n",
       "       [2, 6, 8]])"
      ]
     },
     "execution_count": 19,
     "metadata": {},
     "output_type": "execute_result"
    }
   ],
   "source": [
    "np.random.randint(1,10,(3,3))"
   ]
  },
  {
   "cell_type": "code",
   "execution_count": 20,
   "id": "6b6370e9-7da1-478d-9750-e8548e49bf83",
   "metadata": {},
   "outputs": [],
   "source": [
    "# Mathematical opration\n",
    "a=np.array([1,2,3,4])\n",
    "b=np.array([5,6,7,8])\n",
    "sum=np.add(a,b)"
   ]
  },
  {
   "cell_type": "code",
   "execution_count": 21,
   "id": "624736b2-11d0-49dd-a71d-ec6b147ef141",
   "metadata": {},
   "outputs": [
    {
     "data": {
      "text/plain": [
       "array([ 6,  8, 10, 12])"
      ]
     },
     "execution_count": 21,
     "metadata": {},
     "output_type": "execute_result"
    }
   ],
   "source": [
    "sum"
   ]
  },
  {
   "cell_type": "code",
   "execution_count": 22,
   "id": "365f96e9-6353-489e-8d62-276875c521c2",
   "metadata": {},
   "outputs": [
    {
     "data": {
      "text/plain": [
       "array([-4, -4, -4, -4])"
      ]
     },
     "execution_count": 22,
     "metadata": {},
     "output_type": "execute_result"
    }
   ],
   "source": [
    "np.subtract(a,b)"
   ]
  },
  {
   "cell_type": "code",
   "execution_count": 23,
   "id": "16169768-bca8-4dfe-9df4-a10e82e2470b",
   "metadata": {},
   "outputs": [
    {
     "data": {
      "text/plain": [
       "array([ 5, 12, 21, 32])"
      ]
     },
     "execution_count": 23,
     "metadata": {},
     "output_type": "execute_result"
    }
   ],
   "source": [
    "np.multiply(a,b)"
   ]
  },
  {
   "cell_type": "code",
   "execution_count": 24,
   "id": "d8b4c9e4-9bdf-4338-9e6e-513811e555a5",
   "metadata": {},
   "outputs": [
    {
     "data": {
      "text/plain": [
       "array([0.2       , 0.33333333, 0.42857143, 0.5       ])"
      ]
     },
     "execution_count": 24,
     "metadata": {},
     "output_type": "execute_result"
    }
   ],
   "source": [
    "np.divide(a,b)"
   ]
  },
  {
   "cell_type": "code",
   "execution_count": 25,
   "id": "6260dd4b-029c-468e-91d6-b7c6da8e7bc9",
   "metadata": {},
   "outputs": [
    {
     "data": {
      "text/plain": [
       "array([[ 6,  6,  5],\n",
       "       [ 8,  8, 11],\n",
       "       [12, 12, 11]])"
      ]
     },
     "execution_count": 25,
     "metadata": {},
     "output_type": "execute_result"
    }
   ],
   "source": [
    "c=np.array([(2,3,4),(5,6,7),(8,9,10)])\n",
    "d=np.array([(4,3,1),(3,2,4),(4,3,1)])\n",
    "np.add(c,d)"
   ]
  },
  {
   "cell_type": "code",
   "execution_count": 26,
   "id": "062481bd-6e31-474b-aa78-28f34b4cd6a2",
   "metadata": {},
   "outputs": [
    {
     "data": {
      "text/plain": [
       "array([[-2,  0,  3],\n",
       "       [ 2,  4,  3],\n",
       "       [ 4,  6,  9]])"
      ]
     },
     "execution_count": 26,
     "metadata": {},
     "output_type": "execute_result"
    }
   ],
   "source": [
    "np.subtract(c,d)"
   ]
  },
  {
   "cell_type": "code",
   "execution_count": 27,
   "id": "a30297f8-06d9-4888-9fbf-a02c832356ae",
   "metadata": {},
   "outputs": [
    {
     "data": {
      "text/plain": [
       "array([[ 8,  9,  4],\n",
       "       [15, 12, 28],\n",
       "       [32, 27, 10]])"
      ]
     },
     "execution_count": 27,
     "metadata": {},
     "output_type": "execute_result"
    }
   ],
   "source": [
    "np.multiply(c,d)"
   ]
  },
  {
   "cell_type": "code",
   "execution_count": 28,
   "id": "80de99ce-e288-4c20-84fc-7ca74e818943",
   "metadata": {},
   "outputs": [
    {
     "data": {
      "text/plain": [
       "array([[ 0.5       ,  1.        ,  4.        ],\n",
       "       [ 1.66666667,  3.        ,  1.75      ],\n",
       "       [ 2.        ,  3.        , 10.        ]])"
      ]
     },
     "execution_count": 28,
     "metadata": {},
     "output_type": "execute_result"
    }
   ],
   "source": [
    "np.divide(c,d)"
   ]
  },
  {
   "cell_type": "code",
   "execution_count": 29,
   "id": "a272823c-200a-48a9-87ca-2d2b60b38a15",
   "metadata": {},
   "outputs": [
    {
     "data": {
      "text/plain": [
       "array([1, 2, 3, 4])"
      ]
     },
     "execution_count": 29,
     "metadata": {},
     "output_type": "execute_result"
    }
   ],
   "source": [
    "a=np.array([1,2,3,4])\n",
    "b=np.array([5,6,7,8])\n",
    "np.mod(a,b)"
   ]
  },
  {
   "cell_type": "code",
   "execution_count": 30,
   "id": "3577ee49-de29-40af-b1b0-7aebbb7946c5",
   "metadata": {},
   "outputs": [
    {
     "data": {
      "text/plain": [
       "array([ 0.84147098,  0.90929743,  0.14112001, -0.7568025 ])"
      ]
     },
     "execution_count": 30,
     "metadata": {},
     "output_type": "execute_result"
    }
   ],
   "source": [
    "np.sin(a)"
   ]
  },
  {
   "cell_type": "code",
   "execution_count": 31,
   "id": "a637642a-9985-45d0-99b4-434c00fc4113",
   "metadata": {},
   "outputs": [
    {
     "data": {
      "text/plain": [
       "array([0.        , 0.69314718, 1.09861229, 1.38629436])"
      ]
     },
     "execution_count": 31,
     "metadata": {},
     "output_type": "execute_result"
    }
   ],
   "source": [
    "np.log(a)"
   ]
  },
  {
   "cell_type": "code",
   "execution_count": 32,
   "id": "a3daf367-fcff-4702-99d8-a42b6375b0d9",
   "metadata": {},
   "outputs": [
    {
     "data": {
      "text/plain": [
       "array([-3.38051501, -0.29100619,  0.87144798, -6.79971146])"
      ]
     },
     "execution_count": 32,
     "metadata": {},
     "output_type": "execute_result"
    }
   ],
   "source": [
    "np.tan(b)"
   ]
  },
  {
   "cell_type": "code",
   "execution_count": 33,
   "id": "df11f070-967d-4780-be77-db4beab2f8d6",
   "metadata": {},
   "outputs": [
    {
     "data": {
      "text/plain": [
       "array([ 0.28366219,  0.96017029,  0.75390225, -0.14550003])"
      ]
     },
     "execution_count": 33,
     "metadata": {},
     "output_type": "execute_result"
    }
   ],
   "source": [
    "np.cos(b)"
   ]
  },
  {
   "cell_type": "code",
   "execution_count": 34,
   "id": "3026f3ef-afe2-43b8-945c-ff06d57f1c22",
   "metadata": {},
   "outputs": [
    {
     "data": {
      "text/plain": [
       "array([ 1,  4,  9, 16], dtype=int32)"
      ]
     },
     "execution_count": 34,
     "metadata": {},
     "output_type": "execute_result"
    }
   ],
   "source": [
    "np.power(a,2)"
   ]
  },
  {
   "cell_type": "code",
   "execution_count": 35,
   "id": "4bc3b8bc-2fc5-46b3-aa4e-1810493242d9",
   "metadata": {},
   "outputs": [
    {
     "data": {
      "text/plain": [
       "array([ 2.71828183,  7.3890561 , 20.08553692, 54.59815003])"
      ]
     },
     "execution_count": 35,
     "metadata": {},
     "output_type": "execute_result"
    }
   ],
   "source": [
    "np.exp(a)"
   ]
  },
  {
   "cell_type": "code",
   "execution_count": 36,
   "id": "f5ea4ce1-d691-4ef9-a386-7c65c01737c3",
   "metadata": {},
   "outputs": [
    {
     "data": {
      "text/plain": [
       "4"
      ]
     },
     "execution_count": 36,
     "metadata": {},
     "output_type": "execute_result"
    }
   ],
   "source": [
    "np.max(a)"
   ]
  },
  {
   "cell_type": "code",
   "execution_count": 37,
   "id": "92968d85-fa03-490a-824f-72591e512d8e",
   "metadata": {},
   "outputs": [
    {
     "data": {
      "text/plain": [
       "1"
      ]
     },
     "execution_count": 37,
     "metadata": {},
     "output_type": "execute_result"
    }
   ],
   "source": [
    "np.min(a)"
   ]
  },
  {
   "cell_type": "code",
   "execution_count": 38,
   "id": "1a040ac9-00cf-4fe2-88d9-983cf9c2d455",
   "metadata": {},
   "outputs": [
    {
     "data": {
      "text/plain": [
       "2.5"
      ]
     },
     "execution_count": 38,
     "metadata": {},
     "output_type": "execute_result"
    }
   ],
   "source": [
    "np.mean(a)"
   ]
  },
  {
   "cell_type": "code",
   "execution_count": 39,
   "id": "3c298a1d-085e-4b1a-ad1b-9a418dcce73c",
   "metadata": {},
   "outputs": [
    {
     "data": {
      "text/plain": [
       "6.5"
      ]
     },
     "execution_count": 39,
     "metadata": {},
     "output_type": "execute_result"
    }
   ],
   "source": [
    "np.median(b)"
   ]
  },
  {
   "cell_type": "code",
   "execution_count": 40,
   "id": "f988cafd-38b4-4bd2-8931-d8e7ad9e2ee7",
   "metadata": {},
   "outputs": [
    {
     "data": {
      "text/plain": [
       "1.25"
      ]
     },
     "execution_count": 40,
     "metadata": {},
     "output_type": "execute_result"
    }
   ],
   "source": [
    "np.var(a)"
   ]
  },
  {
   "cell_type": "code",
   "execution_count": 41,
   "id": "1d290808-1240-48ee-814f-0883454e661a",
   "metadata": {},
   "outputs": [
    {
     "data": {
      "text/plain": [
       "array([3., 6., 9.])"
      ]
     },
     "execution_count": 41,
     "metadata": {},
     "output_type": "execute_result"
    }
   ],
   "source": [
    "np.mean(c,axis=1)"
   ]
  },
  {
   "cell_type": "code",
   "execution_count": 42,
   "id": "70f28787-5cb6-4eda-93f2-f5e390980fa1",
   "metadata": {},
   "outputs": [
    {
     "data": {
      "text/plain": [
       "array([3, 4, 5, 6])"
      ]
     },
     "execution_count": 42,
     "metadata": {},
     "output_type": "execute_result"
    }
   ],
   "source": [
    "np.add(a,2)"
   ]
  },
  {
   "cell_type": "code",
   "execution_count": 43,
   "id": "5ea8cbca-23ad-4459-8fbc-e487885bc711",
   "metadata": {},
   "outputs": [
    {
     "data": {
      "text/plain": [
       "array([0, 1, 2, 3])"
      ]
     },
     "execution_count": 43,
     "metadata": {},
     "output_type": "execute_result"
    }
   ],
   "source": [
    "np.subtract(a,1)"
   ]
  },
  {
   "cell_type": "code",
   "execution_count": 44,
   "id": "d5eddfab-3451-4e9a-8ce7-772da8ce3455",
   "metadata": {},
   "outputs": [
    {
     "data": {
      "text/plain": [
       "array([1, 2, 3, 4])"
      ]
     },
     "execution_count": 44,
     "metadata": {},
     "output_type": "execute_result"
    }
   ],
   "source": [
    "# Dot product\n",
    "a"
   ]
  },
  {
   "cell_type": "code",
   "execution_count": 45,
   "id": "5b611528-4e02-423e-a492-bb0e91fd9e67",
   "metadata": {},
   "outputs": [
    {
     "data": {
      "text/plain": [
       "array([5, 6, 7, 8])"
      ]
     },
     "execution_count": 45,
     "metadata": {},
     "output_type": "execute_result"
    }
   ],
   "source": [
    "b"
   ]
  },
  {
   "cell_type": "code",
   "execution_count": 46,
   "id": "78328f34-6049-47cc-8636-23cfd03e2705",
   "metadata": {},
   "outputs": [
    {
     "data": {
      "text/plain": [
       "array([[19, 22],\n",
       "       [43, 50]])"
      ]
     },
     "execution_count": 46,
     "metadata": {},
     "output_type": "execute_result"
    }
   ],
   "source": [
    "a=np.array([1,2,3,4]).reshape(2,2)\n",
    "b=np.array([5,6,7,8]).reshape(2,2)\n",
    "np.dot(a,b)"
   ]
  },
  {
   "cell_type": "code",
   "execution_count": 47,
   "id": "5992baea-021f-42df-93c2-bb54f450a5cd",
   "metadata": {},
   "outputs": [
    {
     "data": {
      "text/plain": [
       "array([[1, 3],\n",
       "       [2, 4]])"
      ]
     },
     "execution_count": 47,
     "metadata": {},
     "output_type": "execute_result"
    }
   ],
   "source": [
    "np.transpose(a)"
   ]
  },
  {
   "cell_type": "code",
   "execution_count": 48,
   "id": "747ae25e-1398-4886-90c1-9831da51df46",
   "metadata": {},
   "outputs": [
    {
     "data": {
      "text/plain": [
       "array([[-2. ,  1. ],\n",
       "       [ 1.5, -0.5]])"
      ]
     },
     "execution_count": 48,
     "metadata": {},
     "output_type": "execute_result"
    }
   ],
   "source": [
    "np.linalg.inv(a)"
   ]
  },
  {
   "cell_type": "code",
   "execution_count": 49,
   "id": "479d39b6-918d-48d6-ad43-1601a5f66f3a",
   "metadata": {},
   "outputs": [
    {
     "data": {
      "text/plain": [
       "array([0, 1, 3, 4, 5, 6, 7])"
      ]
     },
     "execution_count": 49,
     "metadata": {},
     "output_type": "execute_result"
    }
   ],
   "source": [
    "d=np.array([0,1,1,1,3,3,4,5,6,6,7])\n",
    "np.unique(d)"
   ]
  },
  {
   "cell_type": "code",
   "execution_count": 50,
   "id": "df72e8cf-ca01-4614-802f-62f390d47071",
   "metadata": {},
   "outputs": [
    {
     "data": {
      "text/plain": [
       "array([0, 0, 1, 1, 1, 1, 1, 1, 3, 3, 3, 3, 4, 4, 5, 5, 6, 6, 6, 6, 7, 7])"
      ]
     },
     "execution_count": 50,
     "metadata": {},
     "output_type": "execute_result"
    }
   ],
   "source": [
    "np.repeat(d,2)"
   ]
  },
  {
   "cell_type": "code",
   "execution_count": 51,
   "id": "d004d40c-b370-41ae-97db-503adca074b9",
   "metadata": {},
   "outputs": [
    {
     "data": {
      "text/plain": [
       "array([[1, 2],\n",
       "       [3, 4]])"
      ]
     },
     "execution_count": 51,
     "metadata": {},
     "output_type": "execute_result"
    }
   ],
   "source": [
    "# indexing\n",
    "a"
   ]
  },
  {
   "cell_type": "code",
   "execution_count": 52,
   "id": "c0c19b4b-a3ef-4573-bb34-2da7e1e6cc2f",
   "metadata": {},
   "outputs": [],
   "source": [
    "a=np.array([1,2,3,4])"
   ]
  },
  {
   "cell_type": "code",
   "execution_count": 57,
   "id": "43b1afb9-9499-4ffe-91a4-080c0d30732a",
   "metadata": {},
   "outputs": [],
   "source": [
    "c=np.array([(2,3,4),(5,6,7),(8,9,10)])\n",
    "d=np.array([(4,3,1),(3,2,4),(4,3,1)])"
   ]
  },
  {
   "cell_type": "code",
   "execution_count": 58,
   "id": "a74b8013-565c-4ab8-8428-a7e68bc2b65a",
   "metadata": {},
   "outputs": [
    {
     "data": {
      "text/plain": [
       "array([[ 2,  3,  4],\n",
       "       [ 5,  6,  7],\n",
       "       [ 8,  9, 10]])"
      ]
     },
     "execution_count": 58,
     "metadata": {},
     "output_type": "execute_result"
    }
   ],
   "source": [
    "c"
   ]
  },
  {
   "cell_type": "code",
   "execution_count": 59,
   "id": "3da68ce1-c9e0-4940-a0a1-aa0d352048d9",
   "metadata": {},
   "outputs": [
    {
     "data": {
      "text/plain": [
       "array([[4, 3, 1],\n",
       "       [3, 2, 4],\n",
       "       [4, 3, 1]])"
      ]
     },
     "execution_count": 59,
     "metadata": {},
     "output_type": "execute_result"
    }
   ],
   "source": [
    "d"
   ]
  },
  {
   "cell_type": "code",
   "execution_count": 54,
   "id": "0e67ce70-80a0-4778-8420-baf8b20a629c",
   "metadata": {},
   "outputs": [
    {
     "data": {
      "text/plain": [
       "10"
      ]
     },
     "execution_count": 54,
     "metadata": {},
     "output_type": "execute_result"
    }
   ],
   "source": [
    "c[2,2]"
   ]
  },
  {
   "cell_type": "code",
   "execution_count": 55,
   "id": "d01930da-0d1d-4a1a-864f-1666ff279297",
   "metadata": {},
   "outputs": [
    {
     "data": {
      "text/plain": [
       "array([[4, 5],\n",
       "       [7, 8]])"
      ]
     },
     "execution_count": 55,
     "metadata": {},
     "output_type": "execute_result"
    }
   ],
   "source": [
    "a=np.array([(1,2,4,3),(1,4,5,6),(3,7,8,9)])\n",
    "a[1:3,1:3]"
   ]
  },
  {
   "cell_type": "code",
   "execution_count": 56,
   "id": "ff6e3f29-4abf-40f9-a1d9-58234ff38126",
   "metadata": {},
   "outputs": [
    {
     "data": {
      "text/plain": [
       "array([[7, 9]])"
      ]
     },
     "execution_count": 56,
     "metadata": {},
     "output_type": "execute_result"
    }
   ],
   "source": [
    "a[2:4,1:4:2]"
   ]
  },
  {
   "cell_type": "markdown",
   "id": "2130d5e8-0228-456c-aeda-0e89f79b5abc",
   "metadata": {},
   "source": [
    "# Dt - 03/06/25"
   ]
  },
  {
   "cell_type": "code",
   "execution_count": 60,
   "id": "379123f1-0e59-4254-9dbc-0841cc8f7680",
   "metadata": {},
   "outputs": [
    {
     "data": {
      "text/plain": [
       "array([[ 3,  4],\n",
       "       [ 6,  7],\n",
       "       [ 9, 10]])"
      ]
     },
     "execution_count": 60,
     "metadata": {},
     "output_type": "execute_result"
    }
   ],
   "source": [
    "c[:,1:3]"
   ]
  },
  {
   "cell_type": "code",
   "execution_count": 62,
   "id": "925c8cea-bfdb-4eb6-ad9e-21b538df7fde",
   "metadata": {},
   "outputs": [],
   "source": [
    "a=np.array([(21,23,43,21),(23,44,54,21),(21,43,23,65),(43,42,32,12)])"
   ]
  },
  {
   "cell_type": "code",
   "execution_count": 63,
   "id": "918153ac-fa8e-4463-a0ab-83d828da2be9",
   "metadata": {},
   "outputs": [
    {
     "data": {
      "text/plain": [
       "array([[43, 65],\n",
       "       [42, 12]])"
      ]
     },
     "execution_count": 63,
     "metadata": {},
     "output_type": "execute_result"
    }
   ],
   "source": [
    "a[2:4,1:4:2]"
   ]
  },
  {
   "cell_type": "code",
   "execution_count": 64,
   "id": "be5fba79-2737-49f7-ac4e-56d84e327e22",
   "metadata": {},
   "outputs": [
    {
     "data": {
      "text/plain": [
       "array([[43, 21],\n",
       "       [54, 21],\n",
       "       [23, 65],\n",
       "       [32, 12]])"
      ]
     },
     "execution_count": 64,
     "metadata": {},
     "output_type": "execute_result"
    }
   ],
   "source": [
    "a[:,2:4]"
   ]
  },
  {
   "cell_type": "code",
   "execution_count": 65,
   "id": "ae5ba5de-10f5-4681-9ec7-be46ff0d96ec",
   "metadata": {},
   "outputs": [
    {
     "data": {
      "text/plain": [
       "array([[23, 44, 54, 21],\n",
       "       [21, 43, 23, 65]])"
      ]
     },
     "execution_count": 65,
     "metadata": {},
     "output_type": "execute_result"
    }
   ],
   "source": [
    "a[1:3,:]"
   ]
  },
  {
   "cell_type": "code",
   "execution_count": 66,
   "id": "a8f8f118-9e27-4e89-a5ed-6cf2e2555ef7",
   "metadata": {},
   "outputs": [
    {
     "data": {
      "text/plain": [
       "array([[21, 23, 43, 21],\n",
       "       [23, 44, 54, 21],\n",
       "       [21, 43, 23, 65],\n",
       "       [43, 42, 32, 12]])"
      ]
     },
     "execution_count": 66,
     "metadata": {},
     "output_type": "execute_result"
    }
   ],
   "source": [
    "a[:,:]"
   ]
  },
  {
   "cell_type": "code",
   "execution_count": 67,
   "id": "16ea1583-f3b5-4e74-9f6b-dba2f89bb618",
   "metadata": {},
   "outputs": [],
   "source": [
    "mat1=np.random.randint(0,100,(2,4))\n",
    "mat2=np.random.randint(0,100,(2,4))"
   ]
  },
  {
   "cell_type": "code",
   "execution_count": 68,
   "id": "e234a2e6-26a4-451c-9a3e-1eb05025e8dd",
   "metadata": {},
   "outputs": [
    {
     "data": {
      "text/plain": [
       "array([[10, 91, 69, 12],\n",
       "       [26, 71, 61, 27]])"
      ]
     },
     "execution_count": 68,
     "metadata": {},
     "output_type": "execute_result"
    }
   ],
   "source": [
    "mat1"
   ]
  },
  {
   "cell_type": "code",
   "execution_count": 69,
   "id": "3c368c06-deca-4ad5-9279-60f8241efc09",
   "metadata": {},
   "outputs": [
    {
     "data": {
      "text/plain": [
       "array([[30, 37, 52, 16],\n",
       "       [45,  6, 18, 17]])"
      ]
     },
     "execution_count": 69,
     "metadata": {},
     "output_type": "execute_result"
    }
   ],
   "source": [
    "mat2"
   ]
  },
  {
   "cell_type": "code",
   "execution_count": 70,
   "id": "ad255596-08de-4e16-bd18-8f971101bcec",
   "metadata": {},
   "outputs": [
    {
     "data": {
      "text/plain": [
       "array([[10, 91, 69, 12],\n",
       "       [26, 71, 61, 27],\n",
       "       [30, 37, 52, 16],\n",
       "       [45,  6, 18, 17]])"
      ]
     },
     "execution_count": 70,
     "metadata": {},
     "output_type": "execute_result"
    }
   ],
   "source": [
    "np.concatenate((mat1,mat2))"
   ]
  },
  {
   "cell_type": "code",
   "execution_count": 71,
   "id": "7a683256-a6b4-40ea-b5e5-6d651213708a",
   "metadata": {},
   "outputs": [
    {
     "data": {
      "text/plain": [
       "array([[10, 91, 69, 12, 30, 37, 52, 16],\n",
       "       [26, 71, 61, 27, 45,  6, 18, 17]])"
      ]
     },
     "execution_count": 71,
     "metadata": {},
     "output_type": "execute_result"
    }
   ],
   "source": [
    "np.concatenate((mat1,mat2),axis=1)"
   ]
  },
  {
   "cell_type": "code",
   "execution_count": 72,
   "id": "a643dddf-9243-4ffb-8d33-140f79105039",
   "metadata": {},
   "outputs": [
    {
     "data": {
      "text/plain": [
       "array([[ 2,  3,  4],\n",
       "       [ 5,  6,  7],\n",
       "       [ 8,  9, 10]])"
      ]
     },
     "execution_count": 72,
     "metadata": {},
     "output_type": "execute_result"
    }
   ],
   "source": [
    "c"
   ]
  },
  {
   "cell_type": "code",
   "execution_count": 73,
   "id": "44d7ea86-0a62-4d0e-8d17-d8156042b39d",
   "metadata": {},
   "outputs": [],
   "source": [
    "s=np.append(c,[3,4,2])"
   ]
  },
  {
   "cell_type": "code",
   "execution_count": 74,
   "id": "0fa7b696-138d-4800-a5d9-751f0b0b4de9",
   "metadata": {},
   "outputs": [
    {
     "data": {
      "text/plain": [
       "array([[ 2,  3,  4],\n",
       "       [ 5,  6,  7],\n",
       "       [ 8,  9, 10]])"
      ]
     },
     "execution_count": 74,
     "metadata": {},
     "output_type": "execute_result"
    }
   ],
   "source": [
    "c"
   ]
  },
  {
   "cell_type": "code",
   "execution_count": 84,
   "id": "1e9dfe61-30e8-4fc8-bf11-1197a3781549",
   "metadata": {},
   "outputs": [
    {
     "data": {
      "text/plain": [
       "array([ 2,  3,  4,  5,  6,  7,  8,  9, 10,  3,  4,  2])"
      ]
     },
     "execution_count": 84,
     "metadata": {},
     "output_type": "execute_result"
    }
   ],
   "source": [
    "s"
   ]
  },
  {
   "cell_type": "code",
   "execution_count": 76,
   "id": "1f351cc0-a118-467e-a7d4-472ff36e379d",
   "metadata": {},
   "outputs": [],
   "source": [
    "s1=np.append(c,[[2,3,4]],axis=0)"
   ]
  },
  {
   "cell_type": "code",
   "execution_count": 77,
   "id": "ae5953a9-f5b5-4803-9403-2229adbf28fc",
   "metadata": {},
   "outputs": [
    {
     "data": {
      "text/plain": [
       "array([[ 2,  3,  4],\n",
       "       [ 5,  6,  7],\n",
       "       [ 8,  9, 10],\n",
       "       [ 2,  3,  4]])"
      ]
     },
     "execution_count": 77,
     "metadata": {},
     "output_type": "execute_result"
    }
   ],
   "source": [
    "s1"
   ]
  },
  {
   "cell_type": "code",
   "execution_count": 85,
   "id": "70f26741-55e3-4223-aeba-571eb78291c2",
   "metadata": {},
   "outputs": [],
   "source": [
    "s2=np.append(c,[[2,5,0],[2,3,4],[6,3,2]],axis=1)"
   ]
  },
  {
   "cell_type": "code",
   "execution_count": 86,
   "id": "2a6a2b60-f45d-424f-b4be-282dfadeaa44",
   "metadata": {},
   "outputs": [
    {
     "data": {
      "text/plain": [
       "array([[ 2,  3,  4,  2,  5,  0],\n",
       "       [ 5,  6,  7,  2,  3,  4],\n",
       "       [ 8,  9, 10,  6,  3,  2]])"
      ]
     },
     "execution_count": 86,
     "metadata": {},
     "output_type": "execute_result"
    }
   ],
   "source": [
    "s2"
   ]
  },
  {
   "cell_type": "code",
   "execution_count": 87,
   "id": "b8550abd-baec-4c7a-a264-3b7936445076",
   "metadata": {},
   "outputs": [],
   "source": [
    "a=np.array([[2,3],[4,5],[2,5]])\n",
    "d=np.insert(a,1,[11])"
   ]
  },
  {
   "cell_type": "code",
   "execution_count": 88,
   "id": "86950611-3147-49ef-a202-8ccb8e1a4a59",
   "metadata": {},
   "outputs": [
    {
     "data": {
      "text/plain": [
       "array([ 2, 11,  3,  4,  5,  2,  5])"
      ]
     },
     "execution_count": 88,
     "metadata": {},
     "output_type": "execute_result"
    }
   ],
   "source": [
    "d"
   ]
  },
  {
   "cell_type": "code",
   "execution_count": 90,
   "id": "6f0602dd-de3f-41fe-975b-352c444892f7",
   "metadata": {},
   "outputs": [],
   "source": [
    "b=np.insert(a,1,[11],axis=0)"
   ]
  },
  {
   "cell_type": "code",
   "execution_count": 91,
   "id": "87857c28-6465-4096-b394-be8f0aeb0765",
   "metadata": {},
   "outputs": [
    {
     "data": {
      "text/plain": [
       "array([[ 2,  3],\n",
       "       [11, 11],\n",
       "       [ 4,  5],\n",
       "       [ 2,  5]])"
      ]
     },
     "execution_count": 91,
     "metadata": {},
     "output_type": "execute_result"
    }
   ],
   "source": [
    "b"
   ]
  },
  {
   "cell_type": "code",
   "execution_count": 92,
   "id": "3610ca01-69df-45ea-a05d-904b9a761434",
   "metadata": {},
   "outputs": [],
   "source": [
    "b=np.insert(a,1,[11],axis=1)"
   ]
  },
  {
   "cell_type": "code",
   "execution_count": 93,
   "id": "996eae21-4387-4174-938d-7adc1935d0b2",
   "metadata": {},
   "outputs": [
    {
     "data": {
      "text/plain": [
       "array([[ 2, 11,  3],\n",
       "       [ 4, 11,  5],\n",
       "       [ 2, 11,  5]])"
      ]
     },
     "execution_count": 93,
     "metadata": {},
     "output_type": "execute_result"
    }
   ],
   "source": [
    "b"
   ]
  },
  {
   "cell_type": "code",
   "execution_count": 94,
   "id": "ab08e4a6-f7f3-4670-aa62-07b877cb1da2",
   "metadata": {},
   "outputs": [],
   "source": [
    "b=np.insert(a,1,[32,24,56],axis=1)"
   ]
  },
  {
   "cell_type": "code",
   "execution_count": 95,
   "id": "310528ef-55cf-4b3b-b41f-db1ab4071fe8",
   "metadata": {},
   "outputs": [
    {
     "data": {
      "text/plain": [
       "array([[ 2, 32,  3],\n",
       "       [ 4, 24,  5],\n",
       "       [ 2, 56,  5]])"
      ]
     },
     "execution_count": 95,
     "metadata": {},
     "output_type": "execute_result"
    }
   ],
   "source": [
    "b"
   ]
  },
  {
   "cell_type": "code",
   "execution_count": 97,
   "id": "357c2ec1-7d5b-42e7-91dd-031b8f4e0e65",
   "metadata": {},
   "outputs": [
    {
     "data": {
      "text/plain": [
       "array([[ 0,  1,  2,  3],\n",
       "       [ 4,  5,  6,  7],\n",
       "       [ 8,  9, 10, 11],\n",
       "       [12, 13, 14, 15]])"
      ]
     },
     "execution_count": 97,
     "metadata": {},
     "output_type": "execute_result"
    }
   ],
   "source": [
    "a=np.arange(16).reshape(4,4)\n",
    "a"
   ]
  },
  {
   "cell_type": "code",
   "execution_count": 98,
   "id": "4ff4a78a-1115-49f1-9fc9-aa98739109c7",
   "metadata": {},
   "outputs": [
    {
     "data": {
      "text/plain": [
       "[array([[0, 1, 2, 3],\n",
       "        [4, 5, 6, 7]]),\n",
       " array([[ 8,  9, 10, 11],\n",
       "        [12, 13, 14, 15]])]"
      ]
     },
     "execution_count": 98,
     "metadata": {},
     "output_type": "execute_result"
    }
   ],
   "source": [
    "np.split(a,2)"
   ]
  },
  {
   "cell_type": "code",
   "execution_count": 99,
   "id": "7b86387a-2c02-45e4-8ecb-25169c8a3c42",
   "metadata": {},
   "outputs": [
    {
     "data": {
      "text/plain": [
       "[array([[ 0,  1],\n",
       "        [ 4,  5],\n",
       "        [ 8,  9],\n",
       "        [12, 13]]),\n",
       " array([[ 2,  3],\n",
       "        [ 6,  7],\n",
       "        [10, 11],\n",
       "        [14, 15]])]"
      ]
     },
     "execution_count": 99,
     "metadata": {},
     "output_type": "execute_result"
    }
   ],
   "source": [
    "np.hsplit(a,2)"
   ]
  },
  {
   "cell_type": "code",
   "execution_count": 100,
   "id": "bd90f59e-aba7-468b-819f-d0c42d6a641d",
   "metadata": {},
   "outputs": [
    {
     "data": {
      "text/plain": [
       "[array([[0, 1, 2, 3],\n",
       "        [4, 5, 6, 7]]),\n",
       " array([[ 8,  9, 10, 11],\n",
       "        [12, 13, 14, 15]])]"
      ]
     },
     "execution_count": 100,
     "metadata": {},
     "output_type": "execute_result"
    }
   ],
   "source": [
    "np.vsplit(a,2)"
   ]
  },
  {
   "cell_type": "code",
   "execution_count": 101,
   "id": "113240d2-757b-4c02-ad44-87bd981681b1",
   "metadata": {},
   "outputs": [],
   "source": [
    "a=np.array([[1,2],[3,4]])\n",
    "b=np.array([[3,2],[4,3]])"
   ]
  },
  {
   "cell_type": "code",
   "execution_count": 102,
   "id": "c359ae6b-fc7a-41dc-a1a8-2758c0b68559",
   "metadata": {},
   "outputs": [
    {
     "data": {
      "text/plain": [
       "array([[[1, 2],\n",
       "        [3, 4]],\n",
       "\n",
       "       [[3, 2],\n",
       "        [4, 3]]])"
      ]
     },
     "execution_count": 102,
     "metadata": {},
     "output_type": "execute_result"
    }
   ],
   "source": [
    "np.stack((a,b),0)"
   ]
  },
  {
   "cell_type": "code",
   "execution_count": 103,
   "id": "a9011ee6-9736-4094-9f8f-ab370c41229a",
   "metadata": {},
   "outputs": [
    {
     "data": {
      "text/plain": [
       "array([[1, 2, 3, 2],\n",
       "       [3, 4, 4, 3]])"
      ]
     },
     "execution_count": 103,
     "metadata": {},
     "output_type": "execute_result"
    }
   ],
   "source": [
    "np.hstack((a,b))"
   ]
  },
  {
   "cell_type": "code",
   "execution_count": 104,
   "id": "26b15d1d-5ea4-4a77-b23c-b0478ed9f924",
   "metadata": {},
   "outputs": [
    {
     "data": {
      "text/plain": [
       "array([[1, 2],\n",
       "       [3, 4],\n",
       "       [3, 2],\n",
       "       [4, 3]])"
      ]
     },
     "execution_count": 104,
     "metadata": {},
     "output_type": "execute_result"
    }
   ],
   "source": [
    "np.vstack((a,b))"
   ]
  },
  {
   "cell_type": "code",
   "execution_count": 105,
   "id": "3454ea62-b3da-47fa-9958-b91b53320373",
   "metadata": {},
   "outputs": [],
   "source": [
    "a=np.arange(12).reshape(3,4)"
   ]
  },
  {
   "cell_type": "code",
   "execution_count": 106,
   "id": "9bf72948-020e-434a-b20f-37fa80c48782",
   "metadata": {},
   "outputs": [
    {
     "data": {
      "text/plain": [
       "array([[ 0,  1,  2,  3],\n",
       "       [ 4,  5,  6,  7],\n",
       "       [ 8,  9, 10, 11]])"
      ]
     },
     "execution_count": 106,
     "metadata": {},
     "output_type": "execute_result"
    }
   ],
   "source": [
    "a"
   ]
  },
  {
   "cell_type": "code",
   "execution_count": 108,
   "id": "f0bd8ed4-1b38-4b0a-87cd-a531f1b14cb8",
   "metadata": {},
   "outputs": [],
   "source": [
    "a2=np.delete(a,5)"
   ]
  },
  {
   "cell_type": "code",
   "execution_count": 109,
   "id": "1f33134d-0078-46c6-8b2d-ae130b11f166",
   "metadata": {},
   "outputs": [
    {
     "data": {
      "text/plain": [
       "array([ 0,  1,  2,  3,  4,  6,  7,  8,  9, 10, 11])"
      ]
     },
     "execution_count": 109,
     "metadata": {},
     "output_type": "execute_result"
    }
   ],
   "source": [
    "a2"
   ]
  },
  {
   "cell_type": "code",
   "execution_count": null,
   "id": "1ca091ff-f1d6-4073-9fdb-945d08366840",
   "metadata": {},
   "outputs": [],
   "source": []
  }
 ],
 "metadata": {
  "kernelspec": {
   "display_name": "Python 3 (ipykernel)",
   "language": "python",
   "name": "python3"
  },
  "language_info": {
   "codemirror_mode": {
    "name": "ipython",
    "version": 3
   },
   "file_extension": ".py",
   "mimetype": "text/x-python",
   "name": "python",
   "nbconvert_exporter": "python",
   "pygments_lexer": "ipython3",
   "version": "3.12.7"
  }
 },
 "nbformat": 4,
 "nbformat_minor": 5
}
